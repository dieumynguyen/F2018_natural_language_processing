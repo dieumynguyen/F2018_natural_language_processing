{
 "cells": [
  {
   "cell_type": "code",
   "execution_count": 8,
   "metadata": {},
   "outputs": [],
   "source": [
    "transition_probs = {('<s>', 'A'): 0.7,\n",
    "                    ('<s>', 'B'): 0.3, \n",
    "                    ('<s>', '</s>'): 0,\n",
    "                    ('A', 'A'): 0.2,\n",
    "                    ('A', 'B'): 0.7,\n",
    "                    ('A', '</s>'): 0.1,\n",
    "                    ('B', 'A'): 0.7,\n",
    "                    ('B', 'B'): 0.2,\n",
    "                    ('B', '</s>'): 0.1}\n",
    "\n",
    "emission_probs = {('<s>', '*S*'): 1,\n",
    "                    ('<s>', 'x'): 0, \n",
    "                    ('<s>', 'y'): 0,\n",
    "                    ('A', '*S*'): 0,\n",
    "                    ('A', 'x'): 0.4,\n",
    "                    ('A', 'y'): 0.6,\n",
    "                    ('B', '*S*'): 0,\n",
    "                    ('B', 'x'): 0.3,\n",
    "                    ('B', 'y'): 0.7}"
   ]
  },
  {
   "cell_type": "markdown",
   "metadata": {},
   "source": [
    "- Q = set of states; n is number of states\n",
    "- A = transition probability matrix; $a_{ij}$: probability of transitioning from state $q_i$ to state $q_j$\n",
    "- V = set of possible observations; o is number of observs\n",
    "- X = sequence of observations; m is number of timesteps\n",
    "- B = emission matrix; $b_{ij}$: probability of state $q_i$ emitting observation $x_j$\n",
    "- $q_0$: start state or a vector $/pi$ over start states\n",
    "\n",
    "viterbi create 2 matrices, P and Back. The elements of P are the probs of a state at a given time, and Back hold backpointers to the most likely previous state. "
   ]
  },
  {
   "cell_type": "code",
   "execution_count": null,
   "metadata": {},
   "outputs": [],
   "source": [
    "def viterbi(states_set, transition_matrix, observed_seq, emission_matrix, start_state):\n",
    "    for state in states_set:\n",
    "        prob_state = transition_matrix[start_state,state] * emission_matrix(state,observed_seq[0])\n",
    "    \n",
    "    for \n",
    "        "
   ]
  }
 ],
 "metadata": {
  "kernelspec": {
   "display_name": "Python 3",
   "language": "python",
   "name": "python3"
  },
  "language_info": {
   "codemirror_mode": {
    "name": "ipython",
    "version": 3
   },
   "file_extension": ".py",
   "mimetype": "text/x-python",
   "name": "python",
   "nbconvert_exporter": "python",
   "pygments_lexer": "ipython3",
   "version": "3.6.4"
  }
 },
 "nbformat": 4,
 "nbformat_minor": 2
}
