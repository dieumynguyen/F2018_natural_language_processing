{
 "cells": [
  {
   "cell_type": "code",
   "execution_count": 1,
   "metadata": {},
   "outputs": [],
   "source": [
    "import numpy as np\n",
    "from collections import defaultdict\n",
    "import itertools\n",
    "from itertools import product"
   ]
  },
  {
   "cell_type": "markdown",
   "metadata": {},
   "source": [
    "<b> Step 1. Calculate transition and emission probabilities </b>"
   ]
  },
  {
   "cell_type": "code",
   "execution_count": 439,
   "metadata": {},
   "outputs": [],
   "source": [
    "def build_words_tags_sets(data):\n",
    "    # Create a set of tags and set of words to process unseen words & get counts\n",
    "\n",
    "    set_of_tags = set()\n",
    "    set_of_tags.add(\"<s>\"); set_of_tags.add(\"</s>\")\n",
    "    set_of_words = set()\n",
    "    \n",
    "    # Add in UNK word class \n",
    "    set_of_words.add(\"UNK\")\n",
    "\n",
    "    for line in data:\n",
    "        if line != '\\n':\n",
    "            word_tag = line.strip().split('\\t')\n",
    "            set_of_tags.add(word_tag[2])\n",
    "            set_of_words.add(word_tag[1])\n",
    "            \n",
    "    return set_of_tags, set_of_words"
   ]
  },
  {
   "cell_type": "code",
   "execution_count": 160,
   "metadata": {},
   "outputs": [],
   "source": [
    "def build_lists_and_probabilities(train_data, set_of_tags, set_of_words, unk_count):\n",
    "\n",
    "    # Get counts of tag, words, word-tags\n",
    "    word_tag_count = defaultdict(int) # C(t, w)\n",
    "    word_count = defaultdict(int) # C(w)\n",
    "    tag_count = defaultdict(int) # C(t)\n",
    "\n",
    "    tag_sequence = [\"<s>\"]  # Sequence of tags, a sentence ends with .\n",
    "    tag_sequence_count = 0 \n",
    "    tag_tag_count = defaultdict(int) # C(t_{i-1}, t_i)\n",
    "\n",
    "    # print('{}'.format(train_data[0][2:]))\n",
    "\n",
    "    for line in train_data:\n",
    "         if line != '\\n':\n",
    "            word_tag = line.strip().split('\\t')\n",
    "\n",
    "            word_tag_count[(word_tag[1], word_tag[2])] += 1\n",
    "            word_count[word_tag[1]] += 1\n",
    "            tag_count[word_tag[2]] += 2\n",
    "\n",
    "            # Get all tags from all lines\n",
    "            tag_sequence.append(word_tag[2])\n",
    "            if word_tag[1] == \".\":\n",
    "                tag_sequence.append(\"</s>\")\n",
    "                for i in range(0, len(tag_sequence)-1):\n",
    "                    tag_tag_count[(tag_sequence[i], tag_sequence[i+1])] += 1\n",
    "                tag_sequence = [\"<s>\"]\n",
    "                tag_sequence_count += 1\n",
    "\n",
    "    tag_count[\"<s>\"] = tag_sequence_count\n",
    "    tag_count[\"</s>\"] = tag_sequence_count\n",
    "    \n",
    "    # For UNK words, count from corpus\n",
    "    word_count[\"UNK\"] = UNK_count\n",
    "\n",
    "    # Combine tag set and word set \n",
    "    all_word_tag_combos = list(product(set_of_words, set_of_tags))\n",
    "    for word_tag_combo in all_word_tag_combos:\n",
    "        if word_tag_combo not in word_tag_count.keys():\n",
    "            word_tag_count[word_tag_combo] = 0\n",
    "\n",
    "    # Same thing for tag_tag_count\n",
    "    all_tag_tag_combos = list(product(set_of_tags, set_of_tags))\n",
    "    for tag_tag_combo in all_tag_tag_combos:\n",
    "        if tag_tag_combo not in tag_tag_count.keys():\n",
    "            tag_tag_count[tag_tag_combo] = 0\n",
    "\n",
    "    # Get lists and probs\n",
    "    # To smooth or to not smooth - that is the question...\n",
    "    transition_probs = laplace_smooth_transition(tag_tag_count, tag_count, word_count)\n",
    "    emission_probs = laplace_smooth_emission(word_tag_count, tag_count, word_count) \n",
    "#     transition_probs = calculate_transition(tag_tag_count, tag_count)\n",
    "#     emission_probs = calculate_emission(word_tag_count, tag_count)\n",
    "    list_of_tags = list(sorted(set_of_tags))\n",
    "    list_of_words = list(sorted(set_of_words))\n",
    "    \n",
    "    return list_of_tags, list_of_words, word_count, transition_probs, emission_probs\n"
   ]
  },
  {
   "cell_type": "code",
   "execution_count": 146,
   "metadata": {},
   "outputs": [],
   "source": [
    "def calculate_transition(tag_tag_count, tag_count):\n",
    "    # Calculate transition probabilities\n",
    "    # P(t_i | t_{i-1}) = C(t_{i-1, t_i}) / C(t_{i-1})\n",
    "    transition_probs = {}\n",
    "    for tag_tag in tag_tag_count:\n",
    "        count_tag1tag2 = tag_tag_count[tag_tag]\n",
    "        count_tag1 = tag_count[tag_tag[0]]\n",
    "        transition_probs[tag_tag] = count_tag1tag2 / count_tag1        \n",
    "    return transition_probs"
   ]
  },
  {
   "cell_type": "code",
   "execution_count": 147,
   "metadata": {},
   "outputs": [],
   "source": [
    "def calculate_emission(word_tag_count, tag_count):\n",
    "    # Calculate emission probabilities\n",
    "    # P(w | t) = C(t, w) / C(t)\n",
    "    # word-tag pairings with 0 prob not included, will be 0 by default if not in dict\n",
    "    # No smoothing yet\n",
    "    emission_probs = {}\n",
    "    for word_tag in word_tag_count:\n",
    "        count_word_tag = word_tag_count[word_tag]\n",
    "        count_tag = tag_count[word_tag[1]]\n",
    "        emission_probs[word_tag] = count_word_tag / count_tag\n",
    "    return emission_probs"
   ]
  },
  {
   "cell_type": "code",
   "execution_count": 148,
   "metadata": {},
   "outputs": [],
   "source": [
    "def laplace_smooth_transition(tag_tag_count, tag_count, word_count):\n",
    "    vocab_size = len(word_count)\n",
    "    \n",
    "    transition_probs = {}\n",
    "    for tag_tag in tag_tag_count:\n",
    "        count_tag1tag2 = tag_tag_count[tag_tag]\n",
    "        count_tag1 = tag_count[tag_tag[0]]\n",
    "        transition_probs[tag_tag] = (count_tag1tag2 + 1) / (count_tag1 + vocab_size)        \n",
    "    return transition_probs"
   ]
  },
  {
   "cell_type": "code",
   "execution_count": 149,
   "metadata": {},
   "outputs": [],
   "source": [
    "def laplace_smooth_emission(word_tag_count, tag_count, word_count):\n",
    "    vocab_size = len(word_count)\n",
    "    \n",
    "    emission_probs = {}\n",
    "    for word_tag in word_tag_count:\n",
    "        count_word_tag = word_tag_count[word_tag]\n",
    "        count_tag = tag_count[word_tag[1]]\n",
    "        emission_probs[word_tag] = (count_word_tag + 1) / (count_tag + vocab_size)\n",
    "    return emission_probs"
   ]
  },
  {
   "cell_type": "markdown",
   "metadata": {},
   "source": [
    "<b> Step 2. Viterbi algorithm </b>"
   ]
  },
  {
   "cell_type": "code",
   "execution_count": 150,
   "metadata": {
    "scrolled": false
   },
   "outputs": [],
   "source": [
    "def viterbi_pos_tagger(list_of_tags, input_sentence, transition_probs, emission_probs):\n",
    "    # Initializing matrices & vector\n",
    "    # Matrix with tags vs words\n",
    "    p = np.zeros(shape=(len(list_of_tags), len(input_sentence)))\n",
    "    # Matrix for backtrace\n",
    "    back = np.zeros(shape=(len(list_of_tags), len(input_sentence)), dtype=np.int)\n",
    "\n",
    "    # Initializing step: P(tag|start) * P(word1|tag)\n",
    "    for tag_i, tag in enumerate(list_of_tags):\n",
    "        # Fill first col of matrix p & back matrices\n",
    "        tag_given_start = ('<s>', tag)\n",
    "        word_given_tag = (input_sentence[0], tag)\n",
    "        p[tag_i, 0] = transition_probs[tag_given_start] * emission_probs[word_given_tag]\n",
    "        back[tag_i, 0] = 0  # RECHECK this - not sure how to initialize back pointer\n",
    "\n",
    "    # Recursion step - go through every tag for each token:\n",
    "    for word_i in range(1, len(input_sentence)):\n",
    "        for tagi1, tag1 in enumerate(list_of_tags):\n",
    "            # For each tag, get its prob given all other tags:\n",
    "            # Prev column * P(tag|all tags) * P(word|tag)\n",
    "            # Fill in viterbi matrix\n",
    "            p[tagi1, word_i] = np.max([p[tagi2, word_i - 1] * transition_probs[tag2, tag1] * emission_probs[input_sentence[word_i], tag1] for tagi2,tag2 in enumerate(list_of_tags)])\n",
    "            # Fill in backpointer\n",
    "            back[tagi1, word_i] = np.argmax([p[tagi2, word_i - 1] * transition_probs[tag2, tag1] * emission_probs[input_sentence[word_i], tag1] for tagi2,tag2 in enumerate(list_of_tags)])\n",
    "\n",
    "    # Termination steps\n",
    "    best_path_prob = np.max([p[tag_i, len(input_sentence)-1] for tag_i, tag in enumerate(list_of_tags)])        \n",
    "    best_path_pointer = np.argmax([p[tag_i, len(input_sentence)-1] for tag_i, tag in enumerate(list_of_tags)])        \n",
    "\n",
    "    return p, back, best_path_pointer, best_path_prob"
   ]
  },
  {
   "cell_type": "code",
   "execution_count": 151,
   "metadata": {},
   "outputs": [],
   "source": [
    "def backtrace(back, best_path_pointer, input_sentence):\n",
    "    path_idx = [best_path_pointer]\n",
    "    for column_i, column in enumerate(back.T[::-1]): # Starts at end \n",
    "        max_tag_idx = max(column)\n",
    "        path_idx.append(max_tag_idx)\n",
    "    # print(path_idx)\n",
    "\n",
    "    tag_seq = []\n",
    "    for i in range(0,len(path_idx)-1):\n",
    "        tag_seq.append(list_of_tags[path_idx[i]])\n",
    "\n",
    "    print('Input sentence: {}'.format(input_sentence))\n",
    "    print('Part of speech: {}'.format(tag_seq[::-1]))\n",
    "    \n",
    "    return tag_seq"
   ]
  },
  {
   "cell_type": "markdown",
   "metadata": {},
   "source": [
    "<b> Testing time </b>"
   ]
  },
  {
   "cell_type": "code",
   "execution_count": 216,
   "metadata": {},
   "outputs": [],
   "source": [
    "# Split up given data\n",
    "# Build a list of sentences, each sentence is a list\n",
    "# Shuffle or randomly divide into 8:2\n"
   ]
  },
  {
   "cell_type": "markdown",
   "metadata": {},
   "source": [
    "# MIKE"
   ]
  },
  {
   "cell_type": "code",
   "execution_count": 231,
   "metadata": {},
   "outputs": [],
   "source": [
    "with open('berp-POS-training.txt', 'r') as train_file:\n",
    "    train_data = train_file.readlines()"
   ]
  },
  {
   "cell_type": "code",
   "execution_count": 247,
   "metadata": {},
   "outputs": [
    {
     "data": {
      "text/plain": [
       "array([['1', 'i', 'PRP'],\n",
       "       ['2', \"'d\", 'MD'],\n",
       "       ['3', 'like', 'VB'],\n",
       "       ['4', 'to', 'TO'],\n",
       "       ['5', 'go', 'VB'],\n",
       "       ['6', 'to', 'IN'],\n",
       "       ['7', 'a', 'DT'],\n",
       "       ['8', 'fancy', 'JJ'],\n",
       "       ['9', 'restaurant', 'NN'],\n",
       "       ['10', '.', '.'],\n",
       "       ['1', 'i', 'PRP'],\n",
       "       ['2', \"'d\", 'MD']], dtype='<U17')"
      ]
     },
     "execution_count": 247,
     "metadata": {},
     "output_type": "execute_result"
    }
   ],
   "source": [
    "XXX = np.array([ele.strip().split(\"\\t\") for ele in train_data if ele.strip() != \"\"])\n",
    "XXX[:12]"
   ]
  },
  {
   "cell_type": "code",
   "execution_count": 240,
   "metadata": {},
   "outputs": [
    {
     "data": {
      "text/plain": [
       "(152119, 3)"
      ]
     },
     "execution_count": 240,
     "metadata": {},
     "output_type": "execute_result"
    }
   ],
   "source": [
    "XXX.shape"
   ]
  },
  {
   "cell_type": "code",
   "execution_count": 242,
   "metadata": {},
   "outputs": [],
   "source": [
    "token_sentence_idxs = XXX[:,0]\n",
    "tokens = XXX[:,1]\n",
    "tags = XXX[:,2]"
   ]
  },
  {
   "cell_type": "code",
   "execution_count": null,
   "metadata": {},
   "outputs": [],
   "source": []
  },
  {
   "cell_type": "code",
   "execution_count": 325,
   "metadata": {},
   "outputs": [
    {
     "data": {
      "text/plain": [
       "167984"
      ]
     },
     "execution_count": 325,
     "metadata": {},
     "output_type": "execute_result"
    }
   ],
   "source": [
    "len(train_data)"
   ]
  },
  {
   "cell_type": "code",
   "execution_count": 394,
   "metadata": {},
   "outputs": [],
   "source": [
    "sentences = []\n",
    "sentence = []\n",
    "for token, tag in zip(tokens, tags):\n",
    "    if token == '.':\n",
    "        sentence.append(np.array([token, tag]))\n",
    "        sentences.append(np.array(sentence))\n",
    "        sentence = []\n",
    "    else:\n",
    "        sentence.append(np.array([token, tag]))"
   ]
  },
  {
   "cell_type": "code",
   "execution_count": 395,
   "metadata": {},
   "outputs": [],
   "source": [
    "sentences = np.array(sentences)"
   ]
  },
  {
   "cell_type": "code",
   "execution_count": 396,
   "metadata": {},
   "outputs": [
    {
     "data": {
      "text/plain": [
       "15866"
      ]
     },
     "execution_count": 396,
     "metadata": {},
     "output_type": "execute_result"
    }
   ],
   "source": [
    "sentences.shape[0]"
   ]
  },
  {
   "cell_type": "code",
   "execution_count": 397,
   "metadata": {},
   "outputs": [
    {
     "data": {
      "text/plain": [
       "15866"
      ]
     },
     "execution_count": 397,
     "metadata": {},
     "output_type": "execute_result"
    }
   ],
   "source": [
    "num_total_sentences = sentences.shape[0]\n",
    "num_total_sentences"
   ]
  },
  {
   "cell_type": "code",
   "execution_count": 398,
   "metadata": {},
   "outputs": [],
   "source": [
    "np.random.shuffle(sentences)"
   ]
  },
  {
   "cell_type": "code",
   "execution_count": 399,
   "metadata": {},
   "outputs": [],
   "source": [
    "train_test_split = 0.8"
   ]
  },
  {
   "cell_type": "code",
   "execution_count": 400,
   "metadata": {},
   "outputs": [
    {
     "data": {
      "text/plain": [
       "12692"
      ]
     },
     "execution_count": 400,
     "metadata": {},
     "output_type": "execute_result"
    }
   ],
   "source": [
    "num_train_sentences = int(num_total_sentences * train_test_split)\n",
    "num_train_sentences"
   ]
  },
  {
   "cell_type": "code",
   "execution_count": 401,
   "metadata": {},
   "outputs": [
    {
     "data": {
      "text/plain": [
       "3174"
      ]
     },
     "execution_count": 401,
     "metadata": {},
     "output_type": "execute_result"
    }
   ],
   "source": [
    "num_test_sentences = num_total_sentences - num_train_sentences\n",
    "num_test_sentences"
   ]
  },
  {
   "cell_type": "code",
   "execution_count": 402,
   "metadata": {},
   "outputs": [
    {
     "data": {
      "text/plain": [
       "True"
      ]
     },
     "execution_count": 402,
     "metadata": {},
     "output_type": "execute_result"
    }
   ],
   "source": [
    "(num_test_sentences + num_train_sentences) == num_total_sentences"
   ]
  },
  {
   "cell_type": "code",
   "execution_count": 403,
   "metadata": {},
   "outputs": [],
   "source": [
    "train_sentences = sentences[:num_train_sentences]\n",
    "test_sentences = sentences[num_train_sentences:]"
   ]
  },
  {
   "cell_type": "code",
   "execution_count": 404,
   "metadata": {},
   "outputs": [
    {
     "data": {
      "text/plain": [
       "True"
      ]
     },
     "execution_count": 404,
     "metadata": {},
     "output_type": "execute_result"
    }
   ],
   "source": [
    "train_sentences.shape[0] == num_train_sentences"
   ]
  },
  {
   "cell_type": "code",
   "execution_count": 405,
   "metadata": {},
   "outputs": [
    {
     "data": {
      "text/plain": [
       "True"
      ]
     },
     "execution_count": 405,
     "metadata": {},
     "output_type": "execute_result"
    }
   ],
   "source": [
    "test_sentences.shape[0] == num_test_sentences"
   ]
  },
  {
   "cell_type": "code",
   "execution_count": 406,
   "metadata": {},
   "outputs": [
    {
     "data": {
      "text/plain": [
       "(12692,)"
      ]
     },
     "execution_count": 406,
     "metadata": {},
     "output_type": "execute_result"
    }
   ],
   "source": [
    "train_sentences.shape"
   ]
  },
  {
   "cell_type": "code",
   "execution_count": 407,
   "metadata": {},
   "outputs": [
    {
     "data": {
      "text/plain": [
       "(3174,)"
      ]
     },
     "execution_count": 407,
     "metadata": {},
     "output_type": "execute_result"
    }
   ],
   "source": [
    "test_sentences.shape"
   ]
  },
  {
   "cell_type": "markdown",
   "metadata": {},
   "source": [
    "## Unique Sets"
   ]
  },
  {
   "cell_type": "code",
   "execution_count": 408,
   "metadata": {},
   "outputs": [],
   "source": [
    "def get_unique_stuff(sentence, get=\"token\"):\n",
    "    idx = 0 if get == \"token\" else 1\n",
    "    unique_raw = np.array([np.unique(ele[:,idx]) for ele in sentence])\n",
    "\n",
    "    flat_X = []\n",
    "    for ele in unique_raw:\n",
    "        flat_X += list(ele)\n",
    "    unique_set = set(np.unique(flat_X))\n",
    "    \n",
    "    if get == \"token\":\n",
    "        unique_set.add()\n",
    "    else:\n",
    "        unique_set.add()\n",
    "    \n",
    "    return unique_set"
   ]
  },
  {
   "cell_type": "code",
   "execution_count": 441,
   "metadata": {},
   "outputs": [],
   "source": [
    "# comb_sentences = np.concatenate([train_sentences, test_sentences], axis=0)\n",
    "# unique_total_tokens = get_unique_stuff(comb_sentences, get=\"token\")\n",
    "# unique_total_tags = get_unique_stuff(comb_sentences, get=\"tags\")\n",
    "# unique_total_tokens.shape, unique_total_tags.shape"
   ]
  },
  {
   "cell_type": "code",
   "execution_count": null,
   "metadata": {},
   "outputs": [],
   "source": [
    "unique_train_tokens = get_unique_stuff(train_sentences, get=\"token\")\n",
    "unique_train_tags = get_unique_stuff(train_sentences, get=\"tags\")\n",
    "unique_train_tokens.shape, unique_train_tags.shape"
   ]
  },
  {
   "cell_type": "code",
   "execution_count": null,
   "metadata": {},
   "outputs": [],
   "source": [
    "unique_test_tokens = get_unique_stuff(test_sentences, get=\"token\")\n",
    "unique_test_tags = get_unique_stuff(test_sentences, get=\"tags\")\n",
    "unique_test_tokens.shape, unique_test_tags.shape"
   ]
  },
  {
   "cell_type": "markdown",
   "metadata": {},
   "source": [
    "### Make Train/Test Files"
   ]
  },
  {
   "cell_type": "code",
   "execution_count": 434,
   "metadata": {},
   "outputs": [],
   "source": [
    "def write_new_stuff(sentences, dataset_key):\n",
    "    with open(\"{}_sentences_shuffled.txt\".format(dataset_key), \"w\") as outfile:\n",
    "        for sentence in sentences:\n",
    "            for i, (token, tag) in enumerate(sentence, 1):\n",
    "                out_write = \"{}\\t{}\\t{}\\n\".format(i, token, tag)\n",
    "                outfile.write(out_write)\n",
    "            out_write = \"\\n\"\n",
    "            outfile.write(out_write)"
   ]
  },
  {
   "cell_type": "code",
   "execution_count": 437,
   "metadata": {},
   "outputs": [],
   "source": [
    "write_new_stuff(train_sentences, \"training\")\n",
    "write_new_stuff(test_sentences, \"test\")"
   ]
  },
  {
   "cell_type": "markdown",
   "metadata": {},
   "source": [
    "# -----------//Mike---------"
   ]
  },
  {
   "cell_type": "markdown",
   "metadata": {},
   "source": [
    "After splitting data into training & test set:\n",
    "    1. Build word & tag sets for entire data & training data\n",
    "    2. Words in entire data but not training data "
   ]
  },
  {
   "cell_type": "code",
   "execution_count": 186,
   "metadata": {
    "scrolled": true
   },
   "outputs": [
    {
     "name": "stdout",
     "output_type": "stream",
     "text": [
      "Input sentence: ['i', \"'d\", 'like', 'to', 'go', 'to', 'UNK', '.']\n",
      "Part of speech: ['PRP', 'MD', 'VB', 'TO', 'VB', 'TO', 'VB', '.']\n"
     ]
    }
   ],
   "source": [
    "input_sentence = ['i', \"'d\", 'like', 'to', 'go', 'to', 'UNK', '.', '/n'] \n",
    "\n",
    "# Training data\n",
    "with open('berp-POS-training.txt', 'r') as train_file:\n",
    "    train_data = train_file.readlines()\n",
    "    \n",
    "# Get tags and words from fixed lexicon from this train_data\n",
    "set_of_tags, set_of_words = build_words_tags_sets(train_data)        \n",
    "\n",
    "# Divide up data into train and test set\n",
    "# Then get list of words from train_set\n",
    "# Words not in train_set but in total set: process unseen & get counts\n",
    "\n",
    "# Process unseen words & get cumulative counts\n",
    "new_sentence = []\n",
    "UNK_count = 0\n",
    "for word in input_sentence:\n",
    "    if (word != '/n'):\n",
    "        if (word not in set_of_words):\n",
    "            new_sentence.append('UNK')\n",
    "            UNK_count += 1\n",
    "        else:\n",
    "            new_sentence.append(word)\n",
    "        \n",
    "# Get probability matrices, run viterbi & get output       \n",
    "list_of_tags, list_of_words, word_count, transition_probs, emission_probs = build_lists_and_probabilities(train_data, set_of_tags, set_of_words, UNK_count)\n",
    "p, back, best_path_pointer, best_path_prob = viterbi_pos_tagger(list_of_tags, new_sentence, transition_probs, emission_probs)\n",
    "output_tags = backtrace(back, best_path_pointer, new_sentence)"
   ]
  },
  {
   "cell_type": "code",
   "execution_count": null,
   "metadata": {},
   "outputs": [],
   "source": [
    "# # Create a test set and try. \n",
    "# test_data = \"\"\n",
    "# for line in train_data[:104]:\n",
    "#     if len(line) == 1:\n",
    "#         test_data += '\\n'\n",
    "#     elif len(line) > 1:\n",
    "#         num_word = line.strip().split('\\t')\n",
    "#         num = num_word[0]\n",
    "#         word = num_word[1]\n",
    "#         new_line = num + '\\t' + word\n",
    "#         test_data += new_line + '\\n'    \n",
    "        \n",
    "# # Write to file        \n",
    "# with open('viterbi_testfile.txt', 'w') as testfile:\n",
    "#     pass # Empty content before writing\n",
    "#     testfile.write(test_data)"
   ]
  },
  {
   "cell_type": "code",
   "execution_count": null,
   "metadata": {},
   "outputs": [],
   "source": []
  },
  {
   "cell_type": "code",
   "execution_count": null,
   "metadata": {},
   "outputs": [],
   "source": []
  }
 ],
 "metadata": {
  "kernelspec": {
   "display_name": "Python 3",
   "language": "python",
   "name": "python3"
  },
  "language_info": {
   "codemirror_mode": {
    "name": "ipython",
    "version": 3
   },
   "file_extension": ".py",
   "mimetype": "text/x-python",
   "name": "python",
   "nbconvert_exporter": "python",
   "pygments_lexer": "ipython3",
   "version": "3.6.4"
  }
 },
 "nbformat": 4,
 "nbformat_minor": 2
}
