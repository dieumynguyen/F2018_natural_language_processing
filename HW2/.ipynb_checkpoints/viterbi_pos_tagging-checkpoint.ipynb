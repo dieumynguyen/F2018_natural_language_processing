{
 "cells": [
  {
   "cell_type": "code",
   "execution_count": 1,
   "metadata": {},
   "outputs": [],
   "source": [
    "import numpy as np\n",
    "from collections import defaultdict\n",
    "import itertools\n",
    "from itertools import product"
   ]
  },
  {
   "cell_type": "markdown",
   "metadata": {},
   "source": [
    "<b> Step 1. Calculate transition and emission probabilities </b>"
   ]
  },
  {
   "cell_type": "code",
   "execution_count": 34,
   "metadata": {},
   "outputs": [],
   "source": [
    "def build_lists_and_probabilities():\n",
    "\n",
    "    # Processing training data and create count sets\n",
    "\n",
    "    set_of_tags = set()\n",
    "    set_of_tags.add(\"<s>\"); set_of_tags.add(\"</s>\")\n",
    "    set_of_words = set()\n",
    "\n",
    "    # Get counts of tag, words, word-tags\n",
    "    word_tag_count = defaultdict(int) # C(t, w)\n",
    "    word_count = defaultdict(int) # C(w)\n",
    "    tag_count = defaultdict(int) # C(t)\n",
    "\n",
    "    tag_sequence = [\"<s>\"]  # Sequence of tags, a sentence ends with .\n",
    "    tag_sequence_count = 0 \n",
    "    tag_tag_count = defaultdict(int) # C(t_{i-1}, t_i)\n",
    "\n",
    "    with open('berp-POS-training.txt', 'r') as train_file:\n",
    "        train_data = train_file.readlines()\n",
    "\n",
    "    # print('{}'.format(train_data[0][2:]))\n",
    "\n",
    "    for line in train_data:\n",
    "         if line != '\\n':\n",
    "            word_tag = line.strip().split('\\t')\n",
    "            word = word_tag[1]\n",
    "            set_of_tags.add(word_tag[2])\n",
    "            set_of_words.add(word_tag[1])\n",
    "\n",
    "            word_tag_count[(word_tag[1], word_tag[2])] += 1\n",
    "            word_count[word_tag[1]] += 1\n",
    "            tag_count[word_tag[2]] += 2\n",
    "\n",
    "            # Get all tags from all lines\n",
    "            tag_sequence.append(word_tag[2])\n",
    "            if word_tag[1] == \".\":\n",
    "                tag_sequence.append(\"</s>\")\n",
    "                for i in range(0, len(tag_sequence)-1):\n",
    "                    tag_tag_count[(tag_sequence[i], tag_sequence[i+1])] += 1\n",
    "                tag_sequence = [\"<s>\"]\n",
    "                tag_sequence_count += 1\n",
    "\n",
    "    tag_count[\"<s>\"] = tag_sequence_count\n",
    "    tag_count[\"</s>\"] = tag_sequence_count\n",
    "\n",
    "\n",
    "    # Combine tag set and word set and 0 count in word_tag_count if not already there \n",
    "    all_word_tag_combos = list(product(set_of_words, set_of_tags))\n",
    "    for word_tag_combo in all_word_tag_combos:\n",
    "        if word_tag_combo not in word_tag_count.keys():\n",
    "            word_tag_count[word_tag_combo] = 0\n",
    "\n",
    "    # Same thing for tag_tag_count\n",
    "    all_tag_tag_combos = list(product(set_of_tags, set_of_tags))\n",
    "    for tag_tag_combo in all_tag_tag_combos:\n",
    "        if tag_tag_combo not in tag_tag_count.keys():\n",
    "            tag_tag_count[tag_tag_combo] = 0\n",
    "\n",
    "    # Get lists and probs\n",
    "    transition_probs = calculate_transition(tag_tag_count, tag_count)\n",
    "    emission_probs = laplace_smooth_emission(word_tag_count, tag_count, word_count) # Smooth or not\n",
    "    # emission_probs = calculate_emission(word_tag_count, tag_count)\n",
    "    list_of_tags = list(sorted(set_of_tags))\n",
    "    list_of_words = list(sorted(set_of_words))\n",
    "    \n",
    "    return list_of_tags, word_count, transition_probs, emission_probs"
   ]
  },
  {
   "cell_type": "code",
   "execution_count": 21,
   "metadata": {},
   "outputs": [],
   "source": [
    "def calculate_transition(tag_tag_count, tag_count):\n",
    "    # Calculate transition probabilities\n",
    "    # P(t_i | t_{i-1}) = C(t_{i-1, t_i}) / C(t_{i-1})\n",
    "    transition_probs = {}\n",
    "    for tag_tag in tag_tag_count:\n",
    "        count_tag1tag2 = tag_tag_count[tag_tag]\n",
    "        count_tag1 = tag_count[tag_tag[0]]\n",
    "        transition_probs[tag_tag] = count_tag1tag2 / count_tag1        \n",
    "    return transition_probs"
   ]
  },
  {
   "cell_type": "code",
   "execution_count": 22,
   "metadata": {},
   "outputs": [],
   "source": [
    "def calculate_emission(word_tag_count, tag_count):\n",
    "    # Calculate emission probabilities\n",
    "    # P(w | t) = C(t, w) / C(t)\n",
    "    # word-tag pairings with 0 prob not included, will be 0 by default if not in dict\n",
    "    # No smoothing yet\n",
    "    emission_probs = {}\n",
    "    for word_tag in word_tag_count:\n",
    "        count_word_tag = word_tag_count[word_tag]\n",
    "        count_tag = tag_count[word_tag[1]]\n",
    "        emission_probs[word_tag] = count_word_tag / count_tag\n",
    "    return emission_probs"
   ]
  },
  {
   "cell_type": "code",
   "execution_count": 35,
   "metadata": {},
   "outputs": [],
   "source": [
    "def laplace_smooth_emission(word_tag_count, tag_count, word_count):\n",
    "    vocab_size = len(word_count)\n",
    "    \n",
    "    emission_probs = {}\n",
    "    for word_tag in word_tag_count:\n",
    "        count_word_tag = word_tag_count[word_tag]\n",
    "        count_tag = tag_count[word_tag[1]]\n",
    "        emission_probs[word_tag] = (count_word_tag + 1) / (count_tag + vocab_size)\n",
    "    return emission_probs"
   ]
  },
  {
   "cell_type": "markdown",
   "metadata": {},
   "source": [
    "<b>Dealing with unseen data in testset:</b>\n",
    "\n",
    "Create a placeholder UNK class in both matrices? \n"
   ]
  },
  {
   "cell_type": "markdown",
   "metadata": {},
   "source": [
    "<b> Step 2. Viterbi algorithm </b>"
   ]
  },
  {
   "cell_type": "code",
   "execution_count": 39,
   "metadata": {
    "scrolled": false
   },
   "outputs": [],
   "source": [
    "def viterbi_pos_tagger(list_of_tags, input_sentence, transition_probs, emission_probs):\n",
    "    # Initializing matrices & vector\n",
    "    # Matrix with tags vs words\n",
    "    p = np.zeros(shape=(len(list_of_tags), len(input_sentence)))\n",
    "    # Matrix for backtrace\n",
    "    back = np.zeros(shape=(len(list_of_tags), len(input_sentence)), dtype=np.int)\n",
    "\n",
    "    # Initializing step: P(tag|start) * P(word1|tag)\n",
    "    for tag_i, tag in enumerate(list_of_tags):\n",
    "        # Fill first col of matrix p & back matrices\n",
    "        tag_given_start = ('<s>', tag)\n",
    "        word_given_tag = (input_sentence[0], tag)\n",
    "        p[tag_i, 0] = transition_probs[tag_given_start] * emission_probs[word_given_tag]\n",
    "        back[tag_i, 0] = 0  # RECHECK this - not sure how to initialize back pointer\n",
    "\n",
    "    # Recursion step - go through every tag for each token:\n",
    "    for word_i in range(1, len(input_sentence)):\n",
    "        for tagi1, tag1 in enumerate(list_of_tags):\n",
    "            # For each tag, get its prob given all other tags:\n",
    "            # Prev column * P(tag|all tags) * P(word|tag)\n",
    "            # Fill in viterbi matrix\n",
    "            p[tagi1, word_i] = np.max([p[tagi2, word_i - 1] * transition_probs[tag2, tag1] * emission_probs[input_sentence[word_i], tag1] for tagi2,tag2 in enumerate(list_of_tags)])\n",
    "            # Fill in backpointer\n",
    "            back[tagi1, word_i] = np.argmax([p[tagi2, word_i - 1] * transition_probs[tag2, tag1] * emission_probs[input_sentence[word_i], tag1] for tagi2,tag2 in enumerate(list_of_tags)])\n",
    "\n",
    "    # Termination steps\n",
    "    best_path_prob = np.max([p[tag_i, len(input_sentence)-1] for tag_i, tag in enumerate(list_of_tags)])        \n",
    "    best_path_pointer = np.argmax([p[tag_i, len(input_sentence)-1] for tag_i, tag in enumerate(list_of_tags)])        \n",
    "\n",
    "    return p, back, best_path_pointer, best_path_prob"
   ]
  },
  {
   "cell_type": "code",
   "execution_count": 37,
   "metadata": {},
   "outputs": [],
   "source": [
    "def backtrace(back, best_path_pointer):\n",
    "    path_idx = [best_path_pointer]\n",
    "    for column_i, column in enumerate(back.T[::-1]): # Starts at end \n",
    "        max_tag_idx = max(column)\n",
    "        path_idx.append(max_tag_idx)\n",
    "    # print(path_idx)\n",
    "\n",
    "    tag_seq = []\n",
    "    for i in range(0,len(path_idx)-1):\n",
    "        tag_seq.append(list_of_tags[path_idx[i]])\n",
    "\n",
    "    print('Input sentence: {}'.format(input_sentence))\n",
    "    print('Part of speech: {}'.format(tag_seq[::-1]))\n",
    "    \n",
    "    return tag_seq"
   ]
  },
  {
   "cell_type": "markdown",
   "metadata": {},
   "source": [
    "<b> Testing time </b>"
   ]
  },
  {
   "cell_type": "code",
   "execution_count": 42,
   "metadata": {},
   "outputs": [
    {
     "name": "stdout",
     "output_type": "stream",
     "text": [
      "Input sentence: ['how', 'late', 'is', 'cha', '-', 'am', 'open', '.']\n",
      "Part of speech: ['WRB', 'VBZ', 'VBZ', 'VBG', 'WDT', 'VBG', 'WDT', '.']\n"
     ]
    }
   ],
   "source": [
    "input_sentence = ['how', 'late', 'is', 'cha', '-', 'am', 'open', '.']\n",
    "\n",
    "list_of_tags, word_count, transition_probs, emission_probs = build_lists_and_probabilities()\n",
    "p, back, best_path_pointer, best_path_prob = viterbi_pos_tagger(list_of_tags, input_sentence, transition_probs, emission_probs)\n",
    "output_tags = backtrace(back, best_path_pointer)"
   ]
  },
  {
   "cell_type": "markdown",
   "metadata": {},
   "source": [
    "Input sentence: ['i', \"'d\", 'like', 'to', 'go', 'to', 'a', 'fancy', 'restaurant', '.']\n",
    "Part of speech: ['PRP', 'MD', 'VB', 'TO', 'VB', 'IN', 'DT', 'JJ', 'NN', '.']"
   ]
  }
 ],
 "metadata": {
  "kernelspec": {
   "display_name": "Python 3",
   "language": "python",
   "name": "python3"
  },
  "language_info": {
   "codemirror_mode": {
    "name": "ipython",
    "version": 3
   },
   "file_extension": ".py",
   "mimetype": "text/x-python",
   "name": "python",
   "nbconvert_exporter": "python",
   "pygments_lexer": "ipython3",
   "version": "3.6.4"
  }
 },
 "nbformat": 4,
 "nbformat_minor": 2
}
