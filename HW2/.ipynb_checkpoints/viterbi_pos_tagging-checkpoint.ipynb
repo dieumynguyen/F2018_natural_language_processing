{
 "cells": [
  {
   "cell_type": "code",
   "execution_count": 5,
   "metadata": {},
   "outputs": [],
   "source": [
    "import numpy as np\n",
    "from collections import defaultdict\n",
    "import itertools\n",
    "from itertools import product"
   ]
  },
  {
   "cell_type": "markdown",
   "metadata": {},
   "source": [
    "<b> Step 1. Calculate transition and emission probabilities </b>"
   ]
  },
  {
   "cell_type": "code",
   "execution_count": null,
   "metadata": {},
   "outputs": [],
   "source": [
    "def build_words_tags_sets(data):\n",
    "    # Create a set of tags and set of words to process unseen words & get counts\n",
    "\n",
    "    set_of_tags = set()\n",
    "    set_of_tags.add(\"<s>\"); set_of_tags.add(\"</s>\")\n",
    "    set_of_words = set()\n",
    "    total_list_of_words = []\n",
    "    \n",
    "    # Add in UNK word class \n",
    "    set_of_words.add(\"UNK\")\n",
    "\n",
    "    for line in data:\n",
    "        if line != '\\n':\n",
    "            word_tag = line.strip().split('\\t')\n",
    "            set_of_tags.add(word_tag[2])\n",
    "            set_of_words.add(word_tag[1])\n",
    "            total_list_of_words.append(word_tag[1])\n",
    "            \n",
    "    return set_of_tags, set_of_words, total_list_of_words"
   ]
  },
  {
   "cell_type": "code",
   "execution_count": null,
   "metadata": {},
   "outputs": [],
   "source": [
    "def build_lists_and_probabilities(train_data, set_of_tags, set_of_words, unk_count):\n",
    "\n",
    "    # Get counts of tag, words, word-tags\n",
    "    word_tag_count = defaultdict(int) # C(t, w)\n",
    "    word_count = defaultdict(int) # C(w)\n",
    "    tag_count = defaultdict(int) # C(t)\n",
    "\n",
    "    tag_sequence = [\"<s>\"]  # Sequence of tags, a sentence ends with .\n",
    "    tag_sequence_count = 0 \n",
    "    tag_tag_count = defaultdict(int) # C(t_{i-1}, t_i)\n",
    "\n",
    "    # print('{}'.format(train_data[0][2:]))\n",
    "\n",
    "    for line in train_data:\n",
    "         if line != '\\n':\n",
    "            word_tag = line.strip().split('\\t')\n",
    "\n",
    "            word_tag_count[(word_tag[1], word_tag[2])] += 1\n",
    "            word_count[word_tag[1]] += 1\n",
    "            tag_count[word_tag[2]] += 2\n",
    "\n",
    "            # Get all tags from all lines\n",
    "            tag_sequence.append(word_tag[2])\n",
    "            if word_tag[1] == \".\":\n",
    "                tag_sequence.append(\"</s>\")\n",
    "                for i in range(0, len(tag_sequence)-1):\n",
    "                    tag_tag_count[(tag_sequence[i], tag_sequence[i+1])] += 1\n",
    "                tag_sequence = [\"<s>\"]\n",
    "                tag_sequence_count += 1\n",
    "\n",
    "    tag_count[\"<s>\"] = tag_sequence_count\n",
    "    tag_count[\"</s>\"] = tag_sequence_count\n",
    "    \n",
    "    # For UNK words, count from corpus\n",
    "    word_count[\"UNK\"] = UNK_count\n",
    "\n",
    "    # Combine tag set and word set \n",
    "    all_word_tag_combos = list(product(set_of_words, set_of_tags))\n",
    "    for word_tag_combo in all_word_tag_combos:\n",
    "        if word_tag_combo not in word_tag_count.keys():\n",
    "            word_tag_count[word_tag_combo] = 0\n",
    "\n",
    "    # Same thing for tag_tag_count\n",
    "    all_tag_tag_combos = list(product(set_of_tags, set_of_tags))\n",
    "    for tag_tag_combo in all_tag_tag_combos:\n",
    "        if tag_tag_combo not in tag_tag_count.keys():\n",
    "            tag_tag_count[tag_tag_combo] = 0\n",
    "\n",
    "    # Get lists and probs\n",
    "    # To smooth or to not smooth - that is the question...\n",
    "    transition_probs = laplace_smooth_transition(tag_tag_count, tag_count, word_count)\n",
    "    emission_probs = laplace_smooth_emission(word_tag_count, tag_count, word_count) \n",
    "#     transition_probs = calculate_transition(tag_tag_count, tag_count)\n",
    "#     emission_probs = calculate_emission(word_tag_count, tag_count)\n",
    "    list_of_tags = list(sorted(set_of_tags))\n",
    "    list_of_words = list(sorted(set_of_words))\n",
    "    \n",
    "    return list_of_tags, list_of_words, word_count, transition_probs, emission_probs\n"
   ]
  },
  {
   "cell_type": "code",
   "execution_count": null,
   "metadata": {},
   "outputs": [],
   "source": [
    "def calculate_transition(tag_tag_count, tag_count):\n",
    "    # Calculate transition probabilities\n",
    "    # P(t_i | t_{i-1}) = C(t_{i-1, t_i}) / C(t_{i-1})\n",
    "    transition_probs = {}\n",
    "    for tag_tag in tag_tag_count:\n",
    "        count_tag1tag2 = tag_tag_count[tag_tag]\n",
    "        count_tag1 = tag_count[tag_tag[0]]\n",
    "        transition_probs[tag_tag] = count_tag1tag2 / count_tag1        \n",
    "    return transition_probs"
   ]
  },
  {
   "cell_type": "code",
   "execution_count": null,
   "metadata": {},
   "outputs": [],
   "source": [
    "def calculate_emission(word_tag_count, tag_count):\n",
    "    # Calculate emission probabilities\n",
    "    # P(w | t) = C(t, w) / C(t)\n",
    "    # word-tag pairings with 0 prob not included, will be 0 by default if not in dict\n",
    "    # No smoothing yet\n",
    "    emission_probs = {}\n",
    "    for word_tag in word_tag_count:\n",
    "        count_word_tag = word_tag_count[word_tag]\n",
    "        count_tag = tag_count[word_tag[1]]\n",
    "        emission_probs[word_tag] = count_word_tag / count_tag\n",
    "    return emission_probs"
   ]
  },
  {
   "cell_type": "code",
   "execution_count": null,
   "metadata": {},
   "outputs": [],
   "source": [
    "def laplace_smooth_transition(tag_tag_count, tag_count, word_count):\n",
    "    vocab_size = len(word_count)\n",
    "    \n",
    "    transition_probs = {}\n",
    "    for tag_tag in tag_tag_count:\n",
    "        count_tag1tag2 = tag_tag_count[tag_tag]\n",
    "        count_tag1 = tag_count[tag_tag[0]]\n",
    "        transition_probs[tag_tag] = (count_tag1tag2 + 1) / (count_tag1 + vocab_size)        \n",
    "    return transition_probs"
   ]
  },
  {
   "cell_type": "code",
   "execution_count": null,
   "metadata": {},
   "outputs": [],
   "source": [
    "def laplace_smooth_emission(word_tag_count, tag_count, word_count):\n",
    "    vocab_size = len(word_count)\n",
    "    \n",
    "    emission_probs = {}\n",
    "    for word_tag in word_tag_count:\n",
    "        count_word_tag = word_tag_count[word_tag]\n",
    "        count_tag = tag_count[word_tag[1]]\n",
    "        emission_probs[word_tag] = (count_word_tag + 1) / (count_tag + vocab_size)\n",
    "    return emission_probs"
   ]
  },
  {
   "cell_type": "markdown",
   "metadata": {},
   "source": [
    "<b> Step 2. Viterbi algorithm </b>"
   ]
  },
  {
   "cell_type": "code",
   "execution_count": null,
   "metadata": {
    "scrolled": false
   },
   "outputs": [],
   "source": [
    "def viterbi_pos_tagger(list_of_tags, input_sentence, transition_probs, emission_probs):\n",
    "    # Initializing matrices & vector\n",
    "    # Matrix with tags vs words\n",
    "    p = np.zeros(shape=(len(list_of_tags), len(input_sentence)))\n",
    "    # Matrix for backtrace\n",
    "    back = np.zeros(shape=(len(list_of_tags), len(input_sentence)), dtype=np.int)\n",
    "\n",
    "    # Initializing step: P(tag|start) * P(word1|tag)\n",
    "    for tag_i, tag in enumerate(list_of_tags):\n",
    "        # Fill first col of matrix p & back matrices\n",
    "        tag_given_start = ('<s>', tag)\n",
    "        word_given_tag = (input_sentence[0], tag)\n",
    "        p[tag_i, 0] = transition_probs[tag_given_start] * emission_probs[word_given_tag]\n",
    "        back[tag_i, 0] = 0  # RECHECK this - not sure how to initialize back pointer\n",
    "\n",
    "    # Recursion step - go through every tag for each token:\n",
    "    for word_i in range(1, len(input_sentence)):\n",
    "        for tagi1, tag1 in enumerate(list_of_tags):\n",
    "            # For each tag, get its prob given all other tags:\n",
    "            # Prev column * P(tag|all tags) * P(word|tag)\n",
    "            # Fill in viterbi matrix\n",
    "            p[tagi1, word_i] = np.max([p[tagi2, word_i - 1] * transition_probs[tag2, tag1] * emission_probs[input_sentence[word_i], tag1] for tagi2,tag2 in enumerate(list_of_tags)])\n",
    "            # Fill in backpointer\n",
    "            back[tagi1, word_i] = np.argmax([p[tagi2, word_i - 1] * transition_probs[tag2, tag1] * emission_probs[input_sentence[word_i], tag1] for tagi2,tag2 in enumerate(list_of_tags)])\n",
    "\n",
    "    # Termination steps\n",
    "    best_path_prob = np.max([p[tag_i, len(input_sentence)-1] for tag_i, tag in enumerate(list_of_tags)])        \n",
    "    best_path_pointer = np.argmax([p[tag_i, len(input_sentence)-1] for tag_i, tag in enumerate(list_of_tags)])        \n",
    "\n",
    "    return p, back, best_path_pointer, best_path_prob"
   ]
  },
  {
   "cell_type": "code",
   "execution_count": null,
   "metadata": {},
   "outputs": [],
   "source": [
    "def backtrace(back, best_path_pointer, input_sentence):\n",
    "    path_idx = [best_path_pointer]\n",
    "    for column_i, column in enumerate(back.T[::-1]): # Starts at end \n",
    "        max_tag_idx = max(column)\n",
    "        path_idx.append(max_tag_idx)\n",
    "    # print(path_idx)\n",
    "\n",
    "    tag_seq = []\n",
    "    for i in range(0,len(path_idx)-1):\n",
    "        tag_seq.append(list_of_tags[path_idx[i]])\n",
    "        \n",
    "    tag_seq = tag_seq[::-1]\n",
    "\n",
    "    # print('Input sentence: {}'.format(input_sentence))\n",
    "    # print('Part of speech: {}'.format(tag_seq))\n",
    "    \n",
    "    return tag_seq"
   ]
  },
  {
   "cell_type": "markdown",
   "metadata": {},
   "source": [
    "# MIKE"
   ]
  },
  {
   "cell_type": "code",
   "execution_count": 6,
   "metadata": {},
   "outputs": [],
   "source": [
    "with open('berp-POS-training.txt', 'r') as train_file:\n",
    "    train_data = train_file.readlines()"
   ]
  },
  {
   "cell_type": "code",
   "execution_count": 27,
   "metadata": {},
   "outputs": [],
   "source": [
    "XXX = np.array([ele.strip().split(\"\\t\") for ele in train_data if ele.strip() != \"\"])"
   ]
  },
  {
   "cell_type": "code",
   "execution_count": 28,
   "metadata": {},
   "outputs": [
    {
     "data": {
      "text/plain": [
       "array([['1', 'i', 'PRP'],\n",
       "       ['2', \"'d\", 'MD'],\n",
       "       ['3', 'like', 'VB'],\n",
       "       ...,\n",
       "       ['13', 'and', 'CC'],\n",
       "       ['14', 'chips', 'NNS'],\n",
       "       ['15', '.', '.']], dtype='<U17')"
      ]
     },
     "execution_count": 28,
     "metadata": {},
     "output_type": "execute_result"
    }
   ],
   "source": [
    "XXX"
   ]
  },
  {
   "cell_type": "code",
   "execution_count": 9,
   "metadata": {},
   "outputs": [],
   "source": [
    "token_sentence_idxs = XXX[:,0]\n",
    "tokens = XXX[:,1]\n",
    "tags = XXX[:,2]"
   ]
  },
  {
   "cell_type": "code",
   "execution_count": 13,
   "metadata": {},
   "outputs": [],
   "source": [
    "sentences = []\n",
    "sentence = []\n",
    "for token, tag in zip(tokens, tags):\n",
    "    if token == '.':\n",
    "        sentence.append(np.array([token, tag]))\n",
    "        sentences.append(np.array(sentence))\n",
    "        sentence = []\n",
    "    else:\n",
    "        sentence.append(np.array([token, tag]))"
   ]
  },
  {
   "cell_type": "code",
   "execution_count": 14,
   "metadata": {},
   "outputs": [],
   "source": [
    "sentences = np.array(sentences)"
   ]
  },
  {
   "cell_type": "code",
   "execution_count": 15,
   "metadata": {},
   "outputs": [
    {
     "data": {
      "text/plain": [
       "15866"
      ]
     },
     "execution_count": 15,
     "metadata": {},
     "output_type": "execute_result"
    }
   ],
   "source": [
    "num_total_sentences = sentences.shape[0]\n",
    "num_total_sentences"
   ]
  },
  {
   "cell_type": "code",
   "execution_count": 16,
   "metadata": {},
   "outputs": [],
   "source": [
    "np.random.shuffle(sentences)"
   ]
  },
  {
   "cell_type": "code",
   "execution_count": 17,
   "metadata": {},
   "outputs": [],
   "source": [
    "train_test_split = 0.8"
   ]
  },
  {
   "cell_type": "code",
   "execution_count": 18,
   "metadata": {},
   "outputs": [
    {
     "data": {
      "text/plain": [
       "12692"
      ]
     },
     "execution_count": 18,
     "metadata": {},
     "output_type": "execute_result"
    }
   ],
   "source": [
    "num_train_sentences = int(num_total_sentences * train_test_split)\n",
    "num_train_sentences"
   ]
  },
  {
   "cell_type": "code",
   "execution_count": 19,
   "metadata": {},
   "outputs": [
    {
     "data": {
      "text/plain": [
       "3174"
      ]
     },
     "execution_count": 19,
     "metadata": {},
     "output_type": "execute_result"
    }
   ],
   "source": [
    "num_test_sentences = num_total_sentences - num_train_sentences\n",
    "num_test_sentences"
   ]
  },
  {
   "cell_type": "code",
   "execution_count": 20,
   "metadata": {},
   "outputs": [
    {
     "data": {
      "text/plain": [
       "True"
      ]
     },
     "execution_count": 20,
     "metadata": {},
     "output_type": "execute_result"
    }
   ],
   "source": [
    "(num_test_sentences + num_train_sentences) == num_total_sentences"
   ]
  },
  {
   "cell_type": "code",
   "execution_count": 21,
   "metadata": {},
   "outputs": [],
   "source": [
    "train_sentences = sentences[:num_train_sentences]\n",
    "test_sentences = sentences[num_train_sentences:]"
   ]
  },
  {
   "cell_type": "code",
   "execution_count": 22,
   "metadata": {},
   "outputs": [
    {
     "data": {
      "text/plain": [
       "True"
      ]
     },
     "execution_count": 22,
     "metadata": {},
     "output_type": "execute_result"
    }
   ],
   "source": [
    "train_sentences.shape[0] == num_train_sentences"
   ]
  },
  {
   "cell_type": "code",
   "execution_count": 23,
   "metadata": {},
   "outputs": [
    {
     "data": {
      "text/plain": [
       "True"
      ]
     },
     "execution_count": 23,
     "metadata": {},
     "output_type": "execute_result"
    }
   ],
   "source": [
    "test_sentences.shape[0] == num_test_sentences"
   ]
  },
  {
   "cell_type": "code",
   "execution_count": 24,
   "metadata": {},
   "outputs": [
    {
     "data": {
      "text/plain": [
       "(12692,)"
      ]
     },
     "execution_count": 24,
     "metadata": {},
     "output_type": "execute_result"
    }
   ],
   "source": [
    "train_sentences.shape"
   ]
  },
  {
   "cell_type": "code",
   "execution_count": 25,
   "metadata": {},
   "outputs": [
    {
     "data": {
      "text/plain": [
       "(3174,)"
      ]
     },
     "execution_count": 25,
     "metadata": {},
     "output_type": "execute_result"
    }
   ],
   "source": [
    "test_sentences.shape"
   ]
  },
  {
   "cell_type": "code",
   "execution_count": 29,
   "metadata": {},
   "outputs": [
    {
     "data": {
      "text/plain": [
       "array([array([['do', 'VBP'],\n",
       "       ['you', 'PRP'],\n",
       "       ['have', 'VB'],\n",
       "       ['any', 'DT'],\n",
       "       ['vietnamese', 'JJ'],\n",
       "       ['restaurants', 'NNS'],\n",
       "       ['in', 'IN'],\n",
       "       ['your', 'PRP$'],\n",
       "       ['database', 'NN'],\n",
       "       ['.', '.']], dtype='<U11'),\n",
       "       array([['tell', 'VB'],\n",
       "       ['me', 'PRP'],\n",
       "       ['about', 'IN'],\n",
       "       ['the', 'DT'],\n",
       "       ['long', 'JJ'],\n",
       "       ['life', 'NN'],\n",
       "       ['vegi', 'NN'],\n",
       "       ['house', 'NN'],\n",
       "       ['.', '.']], dtype='<U5'),\n",
       "       array([['i', 'PRP'],\n",
       "       [\"'d\", 'MD'],\n",
       "       ['like', 'VB'],\n",
       "       ['to', 'TO'],\n",
       "       ['go', 'VB'],\n",
       "       ['no', 'DT'],\n",
       "       ['further', 'NN'],\n",
       "       ['than', 'IN'],\n",
       "       ['two', 'CD'],\n",
       "       ['miles', 'NNS'],\n",
       "       ['.', '.']], dtype='<U7'),\n",
       "       ...,\n",
       "       array([['i', 'PRP'],\n",
       "       [\"'d\", 'MD'],\n",
       "       ['like', 'VB'],\n",
       "       ['the', 'DT'],\n",
       "       ['previous', 'JJ'],\n",
       "       ['list', 'NN'],\n",
       "       ['please', 'UH'],\n",
       "       ['.', '.']], dtype='<U8'),\n",
       "       array([['i', 'PRP'],\n",
       "       ['would', 'MD'],\n",
       "       ['like', 'VB'],\n",
       "       ['to', 'TO'],\n",
       "       ['eat', 'VB'],\n",
       "       ['uh', 'UH'],\n",
       "       ['vegetarian', 'JJ'],\n",
       "       ['food', 'NN'],\n",
       "       ['and', 'CC'],\n",
       "       ['it', 'PRP'],\n",
       "       [\"'s\", 'VBZ'],\n",
       "       ['a', 'DT'],\n",
       "       ['dinner', 'NN'],\n",
       "       ['one', 'CD'],\n",
       "       ['.', '.']], dtype='<U10'),\n",
       "       array([['display', 'VB'],\n",
       "       ['the', 'DT'],\n",
       "       ['stuff', 'NN'],\n",
       "       ['that', 'WDT'],\n",
       "       ['you', 'PRP'],\n",
       "       ['have', 'VBP'],\n",
       "       ['about', 'IN'],\n",
       "       ['spats', 'NNS'],\n",
       "       ['.', '.']], dtype='<U7')], dtype=object)"
      ]
     },
     "execution_count": 29,
     "metadata": {},
     "output_type": "execute_result"
    }
   ],
   "source": [
    "sentences"
   ]
  },
  {
   "cell_type": "markdown",
   "metadata": {},
   "source": [
    "### Make Train/Test Files"
   ]
  },
  {
   "cell_type": "code",
   "execution_count": null,
   "metadata": {},
   "outputs": [],
   "source": [
    "def write_new_stuff(sentences, dataset_key):\n",
    "    with open(\"{}_sentences_shuffled.txt\".format(dataset_key), \"w\") as outfile:\n",
    "        for sentence in sentences:\n",
    "            for i, (token, tag) in enumerate(sentence, 1):\n",
    "                out_write = \"{}\\t{}\\t{}\\n\".format(i, token, tag)\n",
    "                outfile.write(out_write)\n",
    "            out_write = \"\\n\"\n",
    "            outfile.write(out_write)"
   ]
  },
  {
   "cell_type": "code",
   "execution_count": null,
   "metadata": {},
   "outputs": [],
   "source": [
    "write_new_stuff(train_sentences, \"training\")\n",
    "write_new_stuff(test_sentences, \"test\")"
   ]
  },
  {
   "cell_type": "markdown",
   "metadata": {},
   "source": [
    "## Unique Sets"
   ]
  },
  {
   "cell_type": "code",
   "execution_count": 26,
   "metadata": {},
   "outputs": [],
   "source": [
    "# def get_unique_stuff(sentence, get=\"token\"):\n",
    "#     idx = 0 if get == \"token\" else 1\n",
    "#     unique_raw = np.array([np.unique(ele[:,idx]) for ele in sentence])\n",
    "\n",
    "#     flat_X = []\n",
    "#     for ele in unique_raw:\n",
    "#         flat_X += list(ele)\n",
    "#     unique_set = set(np.unique(flat_X))\n",
    "    \n",
    "#     if get == \"token\":\n",
    "#         unique_set.add()\n",
    "#     else:\n",
    "#         unique_set.add()\n",
    "    \n",
    "#     return unique_set"
   ]
  },
  {
   "cell_type": "code",
   "execution_count": null,
   "metadata": {},
   "outputs": [],
   "source": [
    "# comb_sentences = np.concatenate([train_sentences, test_sentences], axis=0)\n",
    "# unique_total_tokens = get_unique_stuff(comb_sentences, get=\"token\")\n",
    "# unique_total_tags = get_unique_stuff(comb_sentences, get=\"tags\")\n",
    "# unique_total_tokens.shape, unique_total_tags.shape"
   ]
  },
  {
   "cell_type": "code",
   "execution_count": null,
   "metadata": {},
   "outputs": [],
   "source": [
    "# unique_train_tokens = get_unique_stuff(train_sentences, get=\"token\")\n",
    "# unique_train_tags = get_unique_stuff(train_sentences, get=\"tags\")\n",
    "# unique_train_tokens.shape, unique_train_tags.shape"
   ]
  },
  {
   "cell_type": "code",
   "execution_count": null,
   "metadata": {},
   "outputs": [],
   "source": [
    "# unique_test_tokens = get_unique_stuff(test_sentences, get=\"token\")\n",
    "# unique_test_tags = get_unique_stuff(test_sentences, get=\"tags\")\n",
    "# unique_test_tokens.shape, unique_test_tags.shape"
   ]
  },
  {
   "cell_type": "markdown",
   "metadata": {},
   "source": [
    "# -----------//Mike---------"
   ]
  },
  {
   "cell_type": "markdown",
   "metadata": {},
   "source": [
    "After splitting data into training & test set:\n",
    "    1. Build word & tag sets for entire data & training data\n",
    "    2. Words in entire data but not training data are turned into UNK & counted \n",
    "    3. Use training data and the UNK counts to build transition and emission matrices\n",
    "    4. Load test set & turn tokens into a list, preserve \"/n\"\n",
    "    5. Run viterbi function on test set, get list of tags \n",
    "    6. Write output file with idx-token-tag\n",
    "    7. Compare output file and test set & calculate accuracy"
   ]
  },
  {
   "cell_type": "code",
   "execution_count": null,
   "metadata": {},
   "outputs": [],
   "source": [
    "### 1. \n",
    "# Entire data\n",
    "with open('berp-POS-training.txt', 'r') as entire_file:\n",
    "    entire_set = entire_file.readlines()\n",
    "\n",
    "# Train set\n",
    "with open('training_sentences_shuffled.txt', 'r') as train_file:\n",
    "    train_set = train_file.readlines()\n",
    "    \n",
    "# Test set\n",
    "with open('test_sentences_shuffled.txt', 'r') as test_file:\n",
    "    test_set = test_file.readlines()\n",
    "    \n",
    "# Build word & tag sets\n",
    "entire_tags, entire_words, entire_total_word_list = build_words_tags_sets(entire_set)\n",
    "train_tags, train_words, train_total = build_words_tags_sets(train_set)\n",
    "test_tags, test_words, test_total = build_words_tags_sets(test_set)"
   ]
  },
  {
   "cell_type": "code",
   "execution_count": null,
   "metadata": {
    "scrolled": true
   },
   "outputs": [],
   "source": [
    "### 2. \n",
    "# Get UNK count\n",
    "unk_count = 0\n",
    "unk_words = []\n",
    "for word in entire_words:\n",
    "    if word != '/n':\n",
    "        if word not in train_words:\n",
    "            unk_words.append(word)\n",
    "            unk_count += entire_total_word_list.count(unseen)\n",
    "            \n",
    "### 4. \n",
    "# Get sequence of words + Replace unseen words in test set with UNK\n",
    "sequence_tokens = []\n",
    "for line in test_set:\n",
    "    if line != '\\n':\n",
    "        word_tag = line.strip().split('\\t')\n",
    "        if word_tag[1] not in train_words:\n",
    "            sequence_tokens.append('UNK')\n",
    "        else:\n",
    "            sequence_tokens.append(word_tag[1])\n"
   ]
  },
  {
   "cell_type": "code",
   "execution_count": null,
   "metadata": {},
   "outputs": [],
   "source": [
    "XXX = np.array([ele.strip().split(\"\\t\") for ele in test_set if ele.strip() != \"\"])\n",
    "tokens = XXX[:,1]\n",
    "tags = XXX[:,2]\n",
    "\n",
    "sentences_labels = []\n",
    "sentence_labels = []\n",
    "\n",
    "sentences = []\n",
    "sentence = []\n",
    "for token, tag in zip(tokens, tags):\n",
    "    if token not in train_words:\n",
    "        token = \"UNK\"\n",
    "    if token == '.':\n",
    "        sentence.append(token)\n",
    "        sentences.append(sentence)\n",
    "        sentence = []\n",
    "        \n",
    "    else:\n",
    "        sentence.append(token)\n",
    "        \n",
    "    if tag == '.':\n",
    "        sentence_labels.append(tag)\n",
    "        sentences_labels.append(sentence_labels)\n",
    "        sentence_labels = []\n",
    "    else:\n",
    "        sentence_labels.append(tag)"
   ]
  },
  {
   "cell_type": "code",
   "execution_count": null,
   "metadata": {},
   "outputs": [],
   "source": [
    "sentences_labels"
   ]
  },
  {
   "cell_type": "code",
   "execution_count": null,
   "metadata": {
    "scrolled": true
   },
   "outputs": [],
   "source": [
    "# sequence_tokens = [['i', \"'d\", 'like', 'food', '.'], ['as', 'far', 'away', 'as', 'we', 'can', 'get', '.']]\n",
    "\n",
    "### 3. \n",
    "# Use training data and the UNK counts to build transition and emission matrices\n",
    "list_of_tags, list_of_words, word_count, transition_probs, emission_probs = build_lists_and_probabilities(train_set, train_tags, train_words, unk_count)\n",
    "\n",
    "### 5. \n",
    "# Run viterbi function on test set, get list of tags \n",
    "sequence_tags = []\n",
    "for seq in sentences:\n",
    "    p, back, best_path_pointer, best_path_prob = viterbi_pos_tagger(list_of_tags, seq, transition_probs, emission_probs)\n",
    "    output_tags = backtrace(back, best_path_pointer, seq)\n",
    "    sequence_tags.append(output_tags)\n",
    "\n",
    "sequence_tags   \n"
   ]
  },
  {
   "cell_type": "code",
   "execution_count": null,
   "metadata": {},
   "outputs": [],
   "source": [
    "sequence_tags"
   ]
  },
  {
   "cell_type": "code",
   "execution_count": null,
   "metadata": {},
   "outputs": [],
   "source": [
    "flat_list = [tag for tag_list in sequence_tags for tag in tag_list]\n",
    "flat_list"
   ]
  },
  {
   "cell_type": "code",
   "execution_count": null,
   "metadata": {},
   "outputs": [],
   "source": [
    "flat_list = [tag_list for tag_list in sequence_tags]\n",
    "\n"
   ]
  },
  {
   "cell_type": "code",
   "execution_count": null,
   "metadata": {},
   "outputs": [],
   "source": [
    "flatten_list = lambda target_list : [tag for tag_list in target_list for tag in tag_list]"
   ]
  },
  {
   "cell_type": "code",
   "execution_count": null,
   "metadata": {},
   "outputs": [],
   "source": [
    "flat_list = flatten_list(sequence_tags)"
   ]
  },
  {
   "cell_type": "code",
   "execution_count": null,
   "metadata": {},
   "outputs": [],
   "source": [
    "flat_list = []\n",
    "for tag_list in sequence_tags:\n",
    "    for tag in tag_list:\n",
    "        flat_list.append(tag)"
   ]
  },
  {
   "cell_type": "code",
   "execution_count": null,
   "metadata": {},
   "outputs": [],
   "source": [
    "# Flatten lists\n",
    "sentences_labels_flat = flatten_list(sentences_labels)\n",
    "sequence_tags_flat = flatten_list(sequence_tags)\n",
    "len(sentences_labels_flat)"
   ]
  },
  {
   "cell_type": "code",
   "execution_count": null,
   "metadata": {},
   "outputs": [],
   "source": [
    "count_correct = 0\n",
    "for tag in range(0, len(sentences_labels_flat)):\n",
    "    if sentences_labels_flat[tag] == sequence_tags_flat[tag]:\n",
    "        count_correct += 1\n",
    "        \n",
    "count_correct / len(sentences_labels_flat)"
   ]
  },
  {
   "cell_type": "code",
   "execution_count": null,
   "metadata": {
    "scrolled": true
   },
   "outputs": [],
   "source": [
    "# Test on single sentence\n",
    "input_sentence = ['i', \"'d\", 'like', 'to', 'go', 'to', 'UNK', '.', '/n'] \n",
    "\n",
    "# Training data\n",
    "with open('berp-POS-training.txt', 'r') as train_file:\n",
    "    train_data = train_file.readlines()\n",
    "    \n",
    "# Get tags and words from fixed lexicon from this train_data\n",
    "set_of_tags, set_of_words = build_words_tags_sets(train_data)        \n",
    "\n",
    "# Divide up data into train and test set\n",
    "# Then get list of words from train_set\n",
    "# Words not in train_set but in total set: process unseen & get counts\n",
    "\n",
    "# Process unseen words & get cumulative counts\n",
    "new_sentence = []\n",
    "UNK_count = 0\n",
    "for word in input_sentence:\n",
    "    if (word != '/n'):\n",
    "        if (word not in set_of_words):\n",
    "            new_sentence.append('UNK')\n",
    "            UNK_count += 1\n",
    "        else:\n",
    "            new_sentence.append(word)\n",
    "        \n",
    "# Get probability matrices, run viterbi & get output       \n",
    "list_of_tags, list_of_words, word_count, transition_probs, emission_probs = build_lists_and_probabilities(train_data, set_of_tags, set_of_words, UNK_count)\n",
    "p, back, best_path_pointer, best_path_prob = viterbi_pos_tagger(list_of_tags, new_sentence, transition_probs, emission_probs)\n",
    "output_tags = backtrace(back, best_path_pointer, new_sentence)"
   ]
  },
  {
   "cell_type": "code",
   "execution_count": null,
   "metadata": {},
   "outputs": [],
   "source": [
    "# # Create a test set and try. \n",
    "# test_data = \"\"\n",
    "# for line in train_data[:104]:\n",
    "#     if len(line) == 1:\n",
    "#         test_data += '\\n'\n",
    "#     elif len(line) > 1:\n",
    "#         num_word = line.strip().split('\\t')\n",
    "#         num = num_word[0]\n",
    "#         word = num_word[1]\n",
    "#         new_line = num + '\\t' + word\n",
    "#         test_data += new_line + '\\n'    \n",
    "        \n",
    "# # Write to file        \n",
    "# with open('viterbi_testfile.txt', 'w') as testfile:\n",
    "#     pass # Empty content before writing\n",
    "#     testfile.write(test_data)"
   ]
  },
  {
   "cell_type": "code",
   "execution_count": null,
   "metadata": {},
   "outputs": [],
   "source": [
    "list2d = [[1,'AB',3],[4,5,6], [10], [8,9]]\n",
    "merged = list(itertools.chain(*list2d))\n",
    "merged"
   ]
  },
  {
   "cell_type": "code",
   "execution_count": null,
   "metadata": {},
   "outputs": [],
   "source": []
  }
 ],
 "metadata": {
  "kernelspec": {
   "display_name": "Python 3",
   "language": "python",
   "name": "python3"
  },
  "language_info": {
   "codemirror_mode": {
    "name": "ipython",
    "version": 3
   },
   "file_extension": ".py",
   "mimetype": "text/x-python",
   "name": "python",
   "nbconvert_exporter": "python",
   "pygments_lexer": "ipython3",
   "version": "3.6.4"
  }
 },
 "nbformat": 4,
 "nbformat_minor": 2
}
