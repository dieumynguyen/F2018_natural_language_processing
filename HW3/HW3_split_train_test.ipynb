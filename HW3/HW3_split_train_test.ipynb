{
 "cells": [
  {
   "cell_type": "code",
   "execution_count": 53,
   "metadata": {},
   "outputs": [],
   "source": [
    "import pandas as pd\n",
    "import numpy as np\n",
    "import matplotlib.pyplot as plt\n",
    "import time\n",
    "import re\n",
    "from sklearn.model_selection import train_test_split\n",
    "from sklearn.naive_bayes import GaussianNB, BernoulliNB, MultinomialNB\n",
    "from collections import Counter\n",
    "from wordcloud import WordCloud"
   ]
  },
  {
   "cell_type": "code",
   "execution_count": 109,
   "metadata": {},
   "outputs": [],
   "source": [
    "# Data set\n",
    "train_pos = \"hotelPosT-train.txt\"\n",
    "train_neg = \"hotelNegT-train.txt\"\n",
    "\n",
    "with open(train_pos, \"r\") as pos_file:\n",
    "    pos_reviews = pos_file.readlines()\n",
    "    \n",
    "with open(train_neg, \"r\") as neg_file:\n",
    "    neg_reviews = neg_file.readlines()"
   ]
  },
  {
   "cell_type": "code",
   "execution_count": 110,
   "metadata": {},
   "outputs": [],
   "source": [
    "# pos_train, pos_test = train_test_split(pos_reviews, test_size=0.2, random_state=int(time.time()))\n",
    "\n",
    "# neg_train, neg_test = train_test_split(neg_reviews, test_size=0.2, random_state=int(time.time()))\n"
   ]
  },
  {
   "cell_type": "code",
   "execution_count": 111,
   "metadata": {},
   "outputs": [],
   "source": [
    "def count_words(reviews):\n",
    "    '''\n",
    "    Join all the reviews in a file and count occurences of each unigram.\n",
    "    '''    \n",
    "    count_r = 0\n",
    "    split_reviews = []\n",
    "    for r in reviews:    \n",
    "        count_r += 1\n",
    "        review = re.sub(\"[,.!?]\", \"\", r)\n",
    "        review = review.lower().split()\n",
    "        split_reviews += review[1:]\n",
    "        \n",
    "    return split_reviews, Counter(split_reviews), count_r\n",
    "\n",
    "words_list_pos, word_counts_pos, review_count_pos = count_words(pos_train)\n",
    "words_list_neg, word_counts_neg, review_count_neg = count_words(neg_train)"
   ]
  },
  {
   "cell_type": "code",
   "execution_count": 112,
   "metadata": {},
   "outputs": [
    {
     "data": {
      "text/plain": [
       "2477"
      ]
     },
     "execution_count": 112,
     "metadata": {},
     "output_type": "execute_result"
    }
   ],
   "source": [
    "# For smoothing later: size of set of unique words\n",
    "V = len(set(words_list_neg+words_list_pos))\n",
    "V"
   ]
  },
  {
   "cell_type": "code",
   "execution_count": 113,
   "metadata": {},
   "outputs": [
    {
     "data": {
      "text/plain": [
       "(7514, 6845, 14359)"
      ]
     },
     "execution_count": 113,
     "metadata": {},
     "output_type": "execute_result"
    }
   ],
   "source": [
    "count_pos = len(words_list_pos)\n",
    "count_neg = len(words_list_neg)\n",
    "total_words = count_pos + count_neg\n",
    "len(words_list_pos), len(words_list_neg), total_words"
   ]
  },
  {
   "cell_type": "code",
   "execution_count": 114,
   "metadata": {},
   "outputs": [
    {
     "data": {
      "text/plain": [
       "(0.504, 0.496)"
      ]
     },
     "execution_count": 114,
     "metadata": {},
     "output_type": "execute_result"
    }
   ],
   "source": [
    "# These are P(class): FIX: count(id's in a class / total id's)\n",
    "# prob_pos = count_pos / total_words\n",
    "# prob_neg = count_neg / total_words\n",
    "prob_pos = review_count_pos / (review_count_pos + review_count_neg)\n",
    "prob_neg = review_count_neg / (review_count_pos + review_count_neg)\n",
    "prob_pos, prob_neg"
   ]
  },
  {
   "cell_type": "code",
   "execution_count": 115,
   "metadata": {},
   "outputs": [
    {
     "data": {
      "text/plain": [
       "(7514, 6845)"
      ]
     },
     "execution_count": 115,
     "metadata": {},
     "output_type": "execute_result"
    }
   ],
   "source": [
    "count_pos, count_neg"
   ]
  },
  {
   "cell_type": "code",
   "execution_count": 117,
   "metadata": {},
   "outputs": [],
   "source": [
    "def predict_class(review, class_prob, class_count, V, word_counts):\n",
    "    prediction = 0\n",
    "    for word in review[1:]:\n",
    "        # Compute conditional prob in log space\n",
    "        word_count = word_counts[word] + 1\n",
    "        prob_word_given_class = np.log((word_count) / (class_count + V))\n",
    "        prediction += prob_word_given_class\n",
    "    return prediction + np.log(class_prob)\n",
    "\n",
    "# pos = predict_class(test_review, prob_pos, count_pos, V, word_counts_pos)\n",
    "# neg = predict_class(test_review, prob_neg, count_neg, V, word_counts_neg)\n",
    "# pos, neg, pos > neg"
   ]
  },
  {
   "cell_type": "code",
   "execution_count": 119,
   "metadata": {},
   "outputs": [],
   "source": [
    "def make_decision(review, predict_class, prob_pos, count_pos, review_count_pos, word_counts_pos,\n",
    "                 count_neg, review_count_neg, word_counts_neg):\n",
    "    # Compute probabilities for positive and negative classes\n",
    "    predict_pos = predict_class(review, prob_pos, count_pos, review_count_pos, word_counts_pos)\n",
    "    predict_neg = predict_class(review, prob_neg, count_neg, review_count_neg, word_counts_neg)\n",
    "    \n",
    "    if predict_pos > predict_neg:\n",
    "        return \"POS\"\n",
    "    elif predict_pos < predict_neg:\n",
    "        return \"NEG\"\n",
    "    else:\n",
    "        return \"ERROR SOMEWHERE!!\"\n",
    "\n",
    "# make_decision(test_review, predict_class, prob_pos, count_pos, review_count_pos, word_counts_pos,\n",
    "#                  count_neg, review_count_neg, word_counts_neg)"
   ]
  },
  {
   "cell_type": "code",
   "execution_count": 129,
   "metadata": {},
   "outputs": [],
   "source": [
    "# Read test file and output class\n",
    "# test_file = \"test.txt\"\n",
    "# with open(test_file, 'r') as test:\n",
    "#     test = test.readlines()\n",
    "\n",
    "accuracies = []\n",
    "# Run 100 times\n",
    "for i in range(0, 5000):\n",
    "    \n",
    "    pos_train, pos_test = train_test_split(pos_reviews, test_size=0.25)\n",
    "    neg_train, neg_test = train_test_split(neg_reviews, test_size=0.25)\n",
    "\n",
    "    output = \"\"\n",
    "    for line in neg_test:\n",
    "        review = re.sub(\"[,.!]\", \"\", line)\n",
    "        review = review.lower().split()\n",
    "        review_id = review[0].upper()\n",
    "        review_output = \"{}\\t{}\\n\".format(review_id, make_decision(review, predict_class, prob_pos, count_pos, review_count_pos, word_counts_pos,\n",
    "                 count_neg, review_count_neg, word_counts_neg))\n",
    "        output += review_output\n",
    "    with open(\"nguyen-dieumy-assgn3-out.txt\", \"w\") as outfile:\n",
    "        outfile.write(output)\n",
    "        \n",
    "    # Assess accuracy\n",
    "#     with open(\"test_gold.txt\", \"r\") as gold_file:\n",
    "#         gold_file = gold_file.readlines()\n",
    "    with open(\"nguyen-dieumy-assgn3-out.txt\", \"r\") as test_file:\n",
    "        test_file = test_file.readlines()\n",
    "\n",
    "    accuracy = 0\n",
    "    total = 0\n",
    "    for line_i, line in enumerate(test_file):\n",
    "        total += 1\n",
    "#         if gold_file[line_i] == test_file[line_i]:\n",
    "        if 'NEG' in test_file[line_i]:\n",
    "            accuracy += 1\n",
    "\n",
    "    accuracy = accuracy / total\n",
    "    accuracies.append(accuracy)"
   ]
  },
  {
   "cell_type": "code",
   "execution_count": 130,
   "metadata": {},
   "outputs": [
    {
     "data": {
      "text/plain": [
       "0.9792083333333332"
      ]
     },
     "execution_count": 130,
     "metadata": {},
     "output_type": "execute_result"
    },
    {
     "data": {
      "image/png": "[encoded data removed]",
      "text/plain": [
       "<matplotlib.figure.Figure at 0x10eab45f8>"
      ]
     },
     "metadata": {},
     "output_type": "display_data"
    }
   ],
   "source": [
    "# Neg\n",
    "plt.hist(accuracies)\n",
    "np.mean(accuracies)"
   ]
  },
  {
   "cell_type": "code",
   "execution_count": 128,
   "metadata": {},
   "outputs": [
    {
     "data": {
      "text/plain": [
       "0.8955666666666666"
      ]
     },
     "execution_count": 128,
     "metadata": {},
     "output_type": "execute_result"
    },
    {
     "data": {
      "image/png": "[encoded data removed]",
      "text/plain": [
       "<matplotlib.figure.Figure at 0x10ea90470>"
      ]
     },
     "metadata": {},
     "output_type": "display_data"
    }
   ],
   "source": [
    "plt.hist(accuracies)\n",
    "np.mean(accuracies)"
   ]
  },
  {
   "cell_type": "code",
   "execution_count": 131,
   "metadata": {},
   "outputs": [
    {
     "data": {
      "text/plain": [
       "0.9373874999999999"
      ]
     },
     "execution_count": 131,
     "metadata": {},
     "output_type": "execute_result"
    }
   ],
   "source": [
    "(0.9792083333333332+0.8955666666666666)/2"
   ]
  },
  {
   "cell_type": "code",
   "execution_count": null,
   "metadata": {},
   "outputs": [],
   "source": []
  }
 ],
 "metadata": {
  "kernelspec": {
   "display_name": "Python 3",
   "language": "python",
   "name": "python3"
  },
  "language_info": {
   "codemirror_mode": {
    "name": "ipython",
    "version": 3
   },
   "file_extension": ".py",
   "mimetype": "text/x-python",
   "name": "python",
   "nbconvert_exporter": "python",
   "pygments_lexer": "ipython3",
   "version": "3.6.4"
  }
 },
 "nbformat": 4,
 "nbformat_minor": 2
}
