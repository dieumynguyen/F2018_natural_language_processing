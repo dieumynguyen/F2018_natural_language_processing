{
 "cells": [
  {
   "cell_type": "code",
   "execution_count": 63,
   "metadata": {},
   "outputs": [],
   "source": [
    "import numpy as np\n",
    "import tensorflow as tf\n",
    "from os.path import isfile, join\n",
    "import matplotlib.pyplot as plt\n",
    "from os import listdir\n",
    "import re\n",
    "from random import randint"
   ]
  },
  {
   "cell_type": "markdown",
   "metadata": {},
   "source": [
    "1. Train a word vector generation model (e.g. Word2Vec) or load pretrained word vectors\n",
    "2. Create an ID's matrix for training set\n",
    "3. Create graph for RNN with LSTM units \n",
    "4. Train\n",
    "5. Test"
   ]
  },
  {
   "cell_type": "markdown",
   "metadata": {},
   "source": [
    "### Load data"
   ]
  },
  {
   "cell_type": "markdown",
   "metadata": {},
   "source": [
    "Create word vectors using a word vector generation model pretrained using GloVe. The matrix has 400,000 word vectors, each with a dimensionality of 50. <br>\n",
    "\n",
    "Import 2 different data structures: Python list with the 400,000 words & another list with 400,000x50 dimensional embedding matrix that holds all the word vector values. "
   ]
  },
  {
   "cell_type": "code",
   "execution_count": 5,
   "metadata": {},
   "outputs": [
    {
     "data": {
      "text/plain": [
       "(400000, (400000, 50))"
      ]
     },
     "execution_count": 5,
     "metadata": {},
     "output_type": "execute_result"
    }
   ],
   "source": [
    "wordsList = np.load('training_data/wordsList.npy')\n",
    "wordsList = wordsList.tolist()\n",
    "wordsList = [word.decode('UTF-8') for word in wordsList]\n",
    "wordVectors = np.load('training_data/wordVectors.npy')\n",
    "\n",
    "len(wordsList), wordVectors.shape"
   ]
  },
  {
   "cell_type": "code",
   "execution_count": 8,
   "metadata": {},
   "outputs": [
    {
     "data": {
      "text/plain": [
       "array([-1.9327  ,  1.0421  , -0.78515 ,  0.91033 ,  0.22711 , -0.62158 ,\n",
       "       -1.6493  ,  0.07686 , -0.5868  ,  0.058831,  0.35628 ,  0.68916 ,\n",
       "       -0.50598 ,  0.70473 ,  1.2664  , -0.40031 , -0.020687,  0.80863 ,\n",
       "       -0.90566 , -0.074054, -0.87675 , -0.6291  , -0.12685 ,  0.11524 ,\n",
       "       -0.55685 , -1.6826  , -0.26291 ,  0.22632 ,  0.713   , -1.0828  ,\n",
       "        2.1231  ,  0.49869 ,  0.066711, -0.48226 , -0.17897 ,  0.47699 ,\n",
       "        0.16384 ,  0.16537 , -0.11506 , -0.15962 , -0.94926 , -0.42833 ,\n",
       "       -0.59457 ,  1.3566  , -0.27506 ,  0.19918 , -0.36008 ,  0.55667 ,\n",
       "       -0.70315 ,  0.17157 ], dtype=float32)"
      ]
     },
     "execution_count": 8,
     "metadata": {},
     "output_type": "execute_result"
    }
   ],
   "source": [
    "# Search word list for a word, \n",
    "# then access its vector via the embedding matrix\n",
    "baseballIndex = wordsList.index('baseball')\n",
    "wordVectors[baseballIndex]"
   ]
  },
  {
   "cell_type": "markdown",
   "metadata": {},
   "source": [
    "Take an input sentence and construct its vector representation."
   ]
  },
  {
   "cell_type": "code",
   "execution_count": 14,
   "metadata": {},
   "outputs": [
    {
     "data": {
      "text/plain": [
       "((10,), array([    41,    804, 201534,   1005,     15,   7446,      5,  13767,\n",
       "             0,      0], dtype=int32))"
      ]
     },
     "execution_count": 14,
     "metadata": {},
     "output_type": "execute_result"
    }
   ],
   "source": [
    "# Max length of sentence\n",
    "maxSeqLength = 10\n",
    "\n",
    "# Dimensions for each word vector\n",
    "numDimensions = 300\n",
    "\n",
    "firstSentence = np.zeros((maxSeqLength), dtype='int32')\n",
    "firstSentence[0] = wordsList.index(\"i\")\n",
    "firstSentence[1] = wordsList.index(\"thought\")\n",
    "firstSentence[2] = wordsList.index(\"the\")\n",
    "firstSentence[3] = wordsList.index(\"movie\")\n",
    "firstSentence[4] = wordsList.index(\"was\")\n",
    "firstSentence[5] = wordsList.index(\"incredible\")\n",
    "firstSentence[6] = wordsList.index(\"and\")\n",
    "firstSentence[7] = wordsList.index(\"inspiring\")\n",
    "\n",
    "# firstSentence[8] and firstSentence[9] are 0\n",
    "firstSentence.shape, firstSentence"
   ]
  },
  {
   "cell_type": "markdown",
   "metadata": {},
   "source": [
    "Get word vectors by TF's embedding lookup function, which takes: embedding matrix (wordVectors) and another matrix for the ids of each of the words (firstSentence)."
   ]
  },
  {
   "cell_type": "code",
   "execution_count": 16,
   "metadata": {},
   "outputs": [
    {
     "name": "stdout",
     "output_type": "stream",
     "text": [
      "(10, 50)\n"
     ]
    }
   ],
   "source": [
    "# 10x50 output, with 50 dimensional word vec for each of 10 words\n",
    "with tf.Session() as sess:\n",
    "    print(tf.nn.embedding_lookup(wordVectors, firstSentence).eval().shape)"
   ]
  },
  {
   "cell_type": "markdown",
   "metadata": {},
   "source": [
    "Determine the total and average number of words in each revie (pos/neg)"
   ]
  },
  {
   "cell_type": "code",
   "execution_count": null,
   "metadata": {},
   "outputs": [],
   "source": [
    "['positiveReviews/' + f for f in listdir('positiveReviews/') if isfile(join('positiveReviews/', f))]\n"
   ]
  },
  {
   "cell_type": "code",
   "execution_count": 28,
   "metadata": {},
   "outputs": [],
   "source": [
    "positiveFiles = []\n",
    "for f in listdir('training_data/positiveReviews/'):\n",
    "    if isfile(join('training_data/positiveReviews/', f)):\n",
    "        positiveFiles.append('training_data/positiveReviews/' + f)\n",
    "        \n",
    "negativeFiles = []\n",
    "for f in listdir('training_data/negativeReviews/'):\n",
    "    if isfile(join('training_data/negativeReviews/', f)):\n",
    "        negativeFiles.append('training_data/negativeReviews/' + f)"
   ]
  },
  {
   "cell_type": "code",
   "execution_count": 34,
   "metadata": {},
   "outputs": [
    {
     "name": "stdout",
     "output_type": "stream",
     "text": [
      "Total number of files: 25000\n",
      "Total number of words: 5844680\n",
      "Average number of words in files: 233.7872\n"
     ]
    }
   ],
   "source": [
    "numWords = []\n",
    "for pf in positiveFiles:\n",
    "    with open(pf, \"r\", encoding=\"utf-8\") as f:\n",
    "        line = f.readline()\n",
    "        counter = len(line.split())\n",
    "        numWords.append(counter)\n",
    "\n",
    "for pf in negativeFiles:\n",
    "    with open(pf, \"r\", encoding=\"utf-8\") as f:\n",
    "        line = f.readline()\n",
    "        counter = len(line.split())\n",
    "        numWords.append(counter)\n",
    "\n",
    "numFiles = len(numWords)\n",
    "\n",
    "print(\"Total number of files: {}\".format(numFiles))\n",
    "print(\"Total number of words: {}\".format(sum(numWords)))\n",
    "print(\"Average number of words in files: {}\".format(sum(numWords)/len(numWords)))"
   ]
  },
  {
   "cell_type": "code",
   "execution_count": 37,
   "metadata": {},
   "outputs": [
    {
     "data": {
      "image/png": "[encoded data removed]",
      "text/plain": [
       "<matplotlib.figure.Figure at 0x185cd71898>"
      ]
     },
     "metadata": {},
     "output_type": "display_data"
    }
   ],
   "source": [
    "# Visualize data\n",
    "plt.hist(numWords, 50)\n",
    "plt.xlabel('Sequence length')\n",
    "plt.ylabel('Frequency')\n",
    "plt.axis([0, 1500, 0, 7500])\n",
    "plt.show()"
   ]
  },
  {
   "cell_type": "markdown",
   "metadata": {},
   "source": [
    "Per the histogram and average of words per file, most reviews will have < 250 words, which is the max sequence length to set."
   ]
  },
  {
   "cell_type": "code",
   "execution_count": 38,
   "metadata": {},
   "outputs": [],
   "source": [
    "maxSeqLength = 250"
   ]
  },
  {
   "cell_type": "markdown",
   "metadata": {},
   "source": [
    "Take a single file and transform it into an ids matrix. "
   ]
  },
  {
   "cell_type": "code",
   "execution_count": 39,
   "metadata": {},
   "outputs": [
    {
     "name": "stdout",
     "output_type": "stream",
     "text": [
      "This is easily the most underrated film inn the Brooks cannon. Sure, its flawed. It does not give a realistic view of homelessness (unlike, say, how Citizen Kane gave a realistic view of lounge singers, or Titanic gave a realistic view of Italians YOU IDIOTS). Many of the jokes fall flat. But still, this film is very lovable in a way many comedies are not, and to pull that off in a story about some of the most traditionally reviled members of society is truly impressive. Its not The Fisher King, but its not crap, either. My only complaint is that Brooks should have cast someone else in the lead (I love Mel as a Director and Writer, not so much as a lead).\n"
     ]
    }
   ],
   "source": [
    "# Example single file\n",
    "fname = positiveFiles[3]\n",
    "with open(fname) as f:\n",
    "    [print(lines) for lines in f]"
   ]
  },
  {
   "cell_type": "code",
   "execution_count": 42,
   "metadata": {},
   "outputs": [],
   "source": [
    "# Convert file into an ids matrix\n",
    "# Remove punctuations, parantheses, question marks, etc. \n",
    "# Only leave alphanumeric characters\n",
    "strip_special_chars = re.compile(\"[^A-Za-z0-9 ]+\")\n",
    "\n",
    "def cleanSentences(string):\n",
    "    string = string.lower().replace(\" <br />\", \" \")\n",
    "    return re.sub(strip_special_chars, \"\", string.lower())"
   ]
  },
  {
   "cell_type": "code",
   "execution_count": 53,
   "metadata": {},
   "outputs": [],
   "source": [
    "firstFile = np.zeros((maxSeqLength), dtype=\"int32\")\n",
    "with open(fname) as f:\n",
    "    indexCounter = 0\n",
    "    line = f.readline()\n",
    "    cleanedLine = cleanSentences(line)\n",
    "    split = cleanedLine.split()\n",
    "    for word in split:\n",
    "        try:\n",
    "            firstFile[indexCounter] = wordsList.index(word)\n",
    "        except ValueError:\n",
    "            # Vector for unknown words\n",
    "            firstFile[indexCounter] = 399999\n",
    "        indexCounter = indexCounter + 1"
   ]
  },
  {
   "cell_type": "markdown",
   "metadata": {},
   "source": [
    "Do the same for all the reviews. Load in the training set and integerize it to get a 250000x250 matrix. "
   ]
  },
  {
   "cell_type": "code",
   "execution_count": 56,
   "metadata": {},
   "outputs": [],
   "source": [
    "# ids = np.zeros((numFiles, maxSeqLength), dtype='int32')\n",
    "# fileCounter = 0\n",
    "# for pf in positiveFiles:\n",
    "#     with open(pf, \"r\") as f:\n",
    "#         indexCounter = 0\n",
    "#         line=f.readline()\n",
    "#         cleanedLine = cleanSentences(line)\n",
    "#         split = cleanedLine.split()\n",
    "#         for word in split:\n",
    "#             try:\n",
    "#                 ids[fileCounter][indexCounter] = wordsList.index(word)\n",
    "#             except ValueError:\n",
    "#                 ids[fileCounter][indexCounter] = 399999 #Vector for unkown words\n",
    "#             indexCounter = indexCounter + 1\n",
    "#             if indexCounter >= maxSeqLength:\n",
    "#                 break\n",
    "#         fileCounter = fileCounter + 1 \n",
    "\n",
    "# for nf in negativeFiles:\n",
    "#     with open(nf, \"r\") as f:\n",
    "#         indexCounter = 0\n",
    "#         line=f.readline()\n",
    "#         cleanedLine = cleanSentences(line)\n",
    "#         split = cleanedLine.split()\n",
    "#         for word in split:\n",
    "#             try:\n",
    "#                 ids[fileCounter][indexCounter] = wordsList.index(word)\n",
    "#             except ValueError:\n",
    "#                 ids[fileCounter][indexCounter] = 399999 #Vector for unkown words\n",
    "#             indexCounter = indexCounter + 1\n",
    "#             if indexCounter >= maxSeqLength:\n",
    "#                 break\n",
    "#         fileCounter = fileCounter + 1 \n",
    "# #Pass into embedding function and see if it evaluates. \n",
    "\n",
    "# np.save('idsMatrix', ids)"
   ]
  },
  {
   "cell_type": "code",
   "execution_count": 60,
   "metadata": {},
   "outputs": [
    {
     "data": {
      "text/plain": [
       "(25000, 250)"
      ]
     },
     "execution_count": 60,
     "metadata": {},
     "output_type": "execute_result"
    }
   ],
   "source": [
    "# Load instead of re-generating\n",
    "ids = np.load('training_data/idsMatrix.npy')\n",
    "ids.shape"
   ]
  },
  {
   "cell_type": "markdown",
   "metadata": {},
   "source": [
    "### Helper functions"
   ]
  },
  {
   "cell_type": "markdown",
   "metadata": {},
   "source": [
    "To use during training later"
   ]
  },
  {
   "cell_type": "code",
   "execution_count": 61,
   "metadata": {},
   "outputs": [],
   "source": [
    "def getTrainBatch():\n",
    "    labels = []\n",
    "    arr = np.zeros([batchSize, maxSeqLength])\n",
    "    for i in range(batchSize):\n",
    "        if (i % 2 == 0):\n",
    "            num = randint(1, 11499)\n",
    "            labels.append([1, 0])\n",
    "        else:\n",
    "            num = randint(13499, 24999)\n",
    "            labels.append([0, 1])\n",
    "        arr[i] = ids[num-1:num]\n",
    "    return arr, labels\n",
    "\n",
    "def getTrestBatch():\n",
    "    labels = []\n",
    "    arr = np.zeros([batchSize, maxSeqLength])\n",
    "    for i in range(batchSize):\n",
    "        num = randint(11499, 13499)\n",
    "        if (num <= 12499):\n",
    "            labels.append([1, 0])\n",
    "        else:\n",
    "            labels.append([0, 1])\n",
    "        arr[i] = ids[num-1:num]\n",
    "    return arr, labels"
   ]
  },
  {
   "cell_type": "markdown",
   "metadata": {},
   "source": [
    "### RNN model"
   ]
  },
  {
   "cell_type": "markdown",
   "metadata": {},
   "source": [
    "Create a TensorFlow graph: Define hyperparameters (batch size, number of LSTM units, number of output classes, and number of training iterations)."
   ]
  },
  {
   "cell_type": "code",
   "execution_count": 62,
   "metadata": {},
   "outputs": [],
   "source": [
    "batchSize = 24\n",
    "lstmUnits = 64\n",
    "numClasses = 2  # Pos or neg \n",
    "iterations = 100000"
   ]
  },
  {
   "cell_type": "markdown",
   "metadata": {},
   "source": [
    "Specify 2 placeholders, for the inputs into the network and for the labels. Important: understand their dimensionalities. <br>\n",
    "\n",
    "The labels placeholder represents a set of value (either [1,0] or [0,1]) depending on whether each training example is positive or negative. Each row in the integerized input placeholder represents the representation of each training example that we include in the batch."
   ]
  },
  {
   "cell_type": "code",
   "execution_count": 65,
   "metadata": {},
   "outputs": [],
   "source": [
    "tf.reset_default_graph()"
   ]
  },
  {
   "cell_type": "code",
   "execution_count": 66,
   "metadata": {},
   "outputs": [],
   "source": [
    "labels = tf.placeholder(tf.float32, [batchSize, numClasses])\n",
    "input_data = tf.placeholder(tf.int32, [batchSize, maxSeqLength])"
   ]
  },
  {
   "cell_type": "markdown",
   "metadata": {},
   "source": [
    "Call the tf.nn.lookup() function to get word vectors. That returns a 3D Tensor of dimensionality batch size by max sequence length by word vector dimensions. "
   ]
  },
  {
   "cell_type": "code",
   "execution_count": 68,
   "metadata": {},
   "outputs": [
    {
     "data": {
      "text/plain": [
       "<tf.Tensor 'embedding_lookup/Identity:0' shape=(24, 250, 50) dtype=float32>"
      ]
     },
     "execution_count": 68,
     "metadata": {},
     "output_type": "execute_result"
    }
   ],
   "source": [
    "data = tf.Variable(tf.zeros([batchSize, maxSeqLength, numDimensions]),\n",
    "                  dtype=tf.float32)\n",
    "data = tf.nn.embedding_lookup(wordVectors, input_data)\n",
    "data"
   ]
  },
  {
   "cell_type": "markdown",
   "metadata": {},
   "source": [
    "Feed the input into an LSTM network. Call the tf.nn.rnn_cell.BasicLSTMCell function. Takes in an integer for the number of LSTM units we want. This is a hyperparameter. Then wrap the LSTM cell in a dropout layer to prevent overfitting. <br>\n",
    "\n",
    "Then, feed the LSTM cell and 3D tensor full of input data into the function tf.nn.dynamic_rnn. It unrolls the whole network and create a pathway for the data to flow through the RNN graph."
   ]
  },
  {
   "cell_type": "code",
   "execution_count": 70,
   "metadata": {},
   "outputs": [],
   "source": [
    "lstmCell = tf.nn.rnn_cell.LSTMCell(lstmUnits)\n",
    "lstmCell = tf.contrib.rnn.DropoutWrapper(cell=lstmCell, output_keep_prob=0.75)\n",
    "value, _ = tf.nn.dynamic_rnn(lstmCell, data, dtype=tf.float32)"
   ]
  },
  {
   "cell_type": "markdown",
   "metadata": {},
   "source": [
    "First output of the dynamic RNN function: the last hidden state vector. This vector will be reshaped and multiplied by a final weight matrix and bias term to get the final output values."
   ]
  },
  {
   "cell_type": "code",
   "execution_count": null,
   "metadata": {},
   "outputs": [],
   "source": []
  }
 ],
 "metadata": {
  "kernelspec": {
   "display_name": "Python 3",
   "language": "python",
   "name": "python3"
  },
  "language_info": {
   "codemirror_mode": {
    "name": "ipython",
    "version": 3
   },
   "file_extension": ".py",
   "mimetype": "text/x-python",
   "name": "python",
   "nbconvert_exporter": "python",
   "pygments_lexer": "ipython3",
   "version": "3.6.4"
  }
 },
 "nbformat": 4,
 "nbformat_minor": 2
}
